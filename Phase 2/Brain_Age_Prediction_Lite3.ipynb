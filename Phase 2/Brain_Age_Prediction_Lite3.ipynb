{
 "cells": [
  {
   "cell_type": "code",
   "execution_count": 1,
   "metadata": {
    "colab": {
     "base_uri": "https://localhost:8080/"
    },
    "id": "PfNVuLK6hxWQ",
    "outputId": "e092bd18-0e7a-4984-eeb1-56170ee25694"
   },
   "outputs": [
    {
     "name": "stdout",
     "output_type": "stream",
     "text": [
      "Mounted at /content/gdrive\n"
     ]
    }
   ],
   "source": [
    "# from google.colab import drive\n",
    "# drive.mount('/content/gdrive')"
   ]
  },
  {
   "cell_type": "code",
   "execution_count": 2,
   "metadata": {
    "colab": {
     "base_uri": "https://localhost:8080/"
    },
    "id": "5uI5mtMEhKpC",
    "outputId": "8d4d8bba-1734-4dfa-b960-1baaaf1ae838"
   },
   "outputs": [
    {
     "name": "stdout",
     "output_type": "stream",
     "text": [
      "Looking in indexes: https://pypi.org/simple, https://us-python.pkg.dev/colab-wheels/public/simple/\n",
      "Collecting mne\n",
      "  Downloading mne-1.2.2-py3-none-any.whl (7.6 MB)\n",
      "\u001b[K     |████████████████████████████████| 7.6 MB 19.8 MB/s \n",
      "\u001b[?25hRequirement already satisfied: decorator in /usr/local/lib/python3.7/dist-packages (from mne) (4.4.2)\n",
      "Requirement already satisfied: pooch>=1.5 in /usr/local/lib/python3.7/dist-packages (from mne) (1.6.0)\n",
      "Requirement already satisfied: matplotlib in /usr/local/lib/python3.7/dist-packages (from mne) (3.2.2)\n",
      "Requirement already satisfied: scipy>=1.1.0 in /usr/local/lib/python3.7/dist-packages (from mne) (1.7.3)\n",
      "Requirement already satisfied: packaging in /usr/local/lib/python3.7/dist-packages (from mne) (21.3)\n",
      "Requirement already satisfied: tqdm in /usr/local/lib/python3.7/dist-packages (from mne) (4.64.1)\n",
      "Requirement already satisfied: jinja2 in /usr/local/lib/python3.7/dist-packages (from mne) (2.11.3)\n",
      "Requirement already satisfied: numpy>=1.15.4 in /usr/local/lib/python3.7/dist-packages (from mne) (1.21.6)\n",
      "Requirement already satisfied: appdirs>=1.3.0 in /usr/local/lib/python3.7/dist-packages (from pooch>=1.5->mne) (1.4.4)\n",
      "Requirement already satisfied: requests>=2.19.0 in /usr/local/lib/python3.7/dist-packages (from pooch>=1.5->mne) (2.23.0)\n",
      "Requirement already satisfied: pyparsing!=3.0.5,>=2.0.2 in /usr/local/lib/python3.7/dist-packages (from packaging->mne) (3.0.9)\n",
      "Requirement already satisfied: chardet<4,>=3.0.2 in /usr/local/lib/python3.7/dist-packages (from requests>=2.19.0->pooch>=1.5->mne) (3.0.4)\n",
      "Requirement already satisfied: certifi>=2017.4.17 in /usr/local/lib/python3.7/dist-packages (from requests>=2.19.0->pooch>=1.5->mne) (2022.9.24)\n",
      "Requirement already satisfied: urllib3!=1.25.0,!=1.25.1,<1.26,>=1.21.1 in /usr/local/lib/python3.7/dist-packages (from requests>=2.19.0->pooch>=1.5->mne) (1.24.3)\n",
      "Requirement already satisfied: idna<3,>=2.5 in /usr/local/lib/python3.7/dist-packages (from requests>=2.19.0->pooch>=1.5->mne) (2.10)\n",
      "Requirement already satisfied: MarkupSafe>=0.23 in /usr/local/lib/python3.7/dist-packages (from jinja2->mne) (2.0.1)\n",
      "Requirement already satisfied: kiwisolver>=1.0.1 in /usr/local/lib/python3.7/dist-packages (from matplotlib->mne) (1.4.4)\n",
      "Requirement already satisfied: python-dateutil>=2.1 in /usr/local/lib/python3.7/dist-packages (from matplotlib->mne) (2.8.2)\n",
      "Requirement already satisfied: cycler>=0.10 in /usr/local/lib/python3.7/dist-packages (from matplotlib->mne) (0.11.0)\n",
      "Requirement already satisfied: typing-extensions in /usr/local/lib/python3.7/dist-packages (from kiwisolver>=1.0.1->matplotlib->mne) (4.1.1)\n",
      "Requirement already satisfied: six>=1.5 in /usr/local/lib/python3.7/dist-packages (from python-dateutil>=2.1->matplotlib->mne) (1.15.0)\n",
      "Installing collected packages: mne\n",
      "Successfully installed mne-1.2.2\n"
     ]
    }
   ],
   "source": [
    "!pip install mne"
   ]
  },
  {
   "cell_type": "code",
   "execution_count": 3,
   "metadata": {
    "id": "lgQ-TOHDhXhU"
   },
   "outputs": [],
   "source": [
    "# !pip install --pre torch torchvision -f https://download.pytorch.org/whl/nightly/cu111/torch_nightly.html -U"
   ]
  },
  {
   "cell_type": "code",
   "execution_count": 4,
   "metadata": {
    "colab": {
     "base_uri": "https://localhost:8080/"
    },
    "id": "kX7nj-8ghc9I",
    "outputId": "72baab95-b3fe-43ed-e95c-b5ed3317bf14"
   },
   "outputs": [
    {
     "data": {
      "text/plain": [
       "<torch._C.Generator at 0x7fa586a76050>"
      ]
     },
     "execution_count": 4,
     "metadata": {},
     "output_type": "execute_result"
    }
   ],
   "source": [
    "######################################################################################################\n",
    "#  ________   _________   ___    ___ ___  ___  ________  ________  ___  __      _______   _______\n",
    "# |\\   ___  \\|\\___   ___\\|\\  \\  /  /|\\  \\|\\  \\|\\   __  \\|\\   ____\\|\\  \\|\\  \\   /  ___  \\ /  ___  \\\n",
    "# \\ \\  \\\\ \\  \\|___ \\  \\_|\\ \\  \\/  / | \\  \\\\\\  \\ \\  \\|\\  \\ \\  \\___|\\ \\  \\/  /|_/__/|_/  //__/|_/  /|\n",
    "#  \\ \\  \\\\ \\  \\   \\ \\  \\  \\ \\    / / \\ \\   __  \\ \\   __  \\ \\  \\    \\ \\   ___  \\__|//  / /__|//  / /\n",
    "#   \\ \\  \\\\ \\  \\   \\ \\  \\  /     \\/   \\ \\  \\ \\  \\ \\  \\ \\  \\ \\  \\____\\ \\  \\\\ \\  \\  /  /_/__  /  /_/__\n",
    "#    \\ \\__\\\\ \\__\\   \\ \\__\\/  /\\   \\    \\ \\__\\ \\__\\ \\__\\ \\__\\ \\_______\\ \\__\\\\ \\__\\|\\________\\\\________\\\n",
    "#     \\|__| \\|__|    \\|__/__/ /\\ __\\    \\|__|\\|__|\\|__|\\|__|\\|_______|\\|__| \\|__| \\|_______|\\|_______|\n",
    "#                        |__|/ \\|__|\n",
    "######################################################################################################\n",
    "\n",
    "import mne\n",
    "import numpy as np\n",
    "import pandas as pd\n",
    "import matplotlib.pyplot as plt\n",
    "import torch\n",
    "from torch import nn\n",
    "import random\n",
    "from torch.utils.data import Dataset, DataLoader\n",
    "from mne.decoding import Vectorizer\n",
    "torch.manual_seed(42)"
   ]
  },
  {
   "cell_type": "code",
   "execution_count": 5,
   "metadata": {
    "colab": {
     "base_uri": "https://localhost:8080/"
    },
    "id": "TzkDg4Sjhrsq",
    "outputId": "00e149d8-2cb0-460f-b050-5a9addebee79"
   },
   "outputs": [
    {
     "name": "stdout",
     "output_type": "stream",
     "text": [
      "cuda\n"
     ]
    }
   ],
   "source": [
    "DEVICE = \"cuda\" if torch.cuda.is_available() else \"cpu\"\n",
    "print(DEVICE)"
   ]
  },
  {
   "cell_type": "code",
   "execution_count": 6,
   "metadata": {
    "id": "V3hErMUIiGYq"
   },
   "outputs": [],
   "source": [
    "# Path to training data\n",
    "# train_path = \"/content/gdrive/My Drive/codalab/training/\"\n",
    "train_path = \"/home/deepak/learning_project/student/BrainAge/training/\""
   ]
  },
  {
   "cell_type": "code",
   "execution_count": 7,
   "metadata": {
    "id": "R9jQhK1_n8-Q"
   },
   "outputs": [],
   "source": [
    "# Path to testing data (public test set)\n",
    "# test_path = \"/content/gdrive/My Drive/codalab/testing_flat/\"\n",
    "# test_path = \"/home/deepak/learning_project/student/BrainAge/testing_flat/\""
   ]
  },
  {
   "cell_type": "code",
   "execution_count": 8,
   "metadata": {
    "id": "DaIxAh4wKRmw"
   },
   "outputs": [],
   "source": [
    "# Path to final testing data (public test set)\n",
    "# final_test_path = \"/content/gdrive/My Drive/codalab/validation-final/\"\n",
    "# final_test_path = \"/home/deepak/learning_project/student/BrainAge/validation-final/\""
   ]
  },
  {
   "cell_type": "code",
   "execution_count": 9,
   "metadata": {
    "id": "9huk96LFoNTD"
   },
   "outputs": [],
   "source": [
    "condition_ec = \"EC\"  # closed eyes condition\n",
    "condition_eo = \"EO\"  # closed eyes condition\n",
    "train_subj = 1100  # use 1100 of the 1200 training subjects for training\n",
    "val_subj = 100   # use 100 of the 1200 training subjects for validation\n",
    "test_subj = 400  # use 10 instead of 400 testing subjects, for demonstration purpose"
   ]
  },
  {
   "cell_type": "code",
   "execution_count": 10,
   "metadata": {
    "id": "GH6upu6g3Qfx"
   },
   "outputs": [],
   "source": [
    "class CustomDataset(Dataset):\n",
    "    def __init__(self, path, subj, ages, start):\n",
    "        self.path = path\n",
    "        self.subj = subj\n",
    "        self.ages = ages\n",
    "        self.start = start\n",
    "    def __len__(self):\n",
    "        return self.subj\n",
    "    def __getitem__(self, idx):\n",
    "        s = idx + self.start\n",
    "        fname = f\"subj{s:04}_{condition_eo}_raw.fif.gz\"\n",
    "        raw = mne.io.read_raw(self.path + fname, preload=True, verbose='warning')\n",
    "        d = raw.get_data()\n",
    "        ft = d.shape[-1]\n",
    "        data_eo = torch.zeros(1, 129, 10000)\n",
    "        data_eo[:, :, :ft] = -200 * torch.tensor(d)\n",
    "        fname = f\"subj{s:04}_{condition_ec}_raw.fif.gz\"\n",
    "        raw = mne.io.read_raw(self.path + fname, preload=True, verbose='warning')\n",
    "        d = raw.get_data()\n",
    "        ft = d.shape[-1]\n",
    "        data_ec = torch.zeros(1, 129, 20000)\n",
    "        data_ec[:, :, :ft] = -200 * torch.tensor(d)\n",
    "        data = (data_eo, data_ec)\n",
    "        age = self.ages[idx]\n",
    "        return data, age"
   ]
  },
  {
   "cell_type": "code",
   "execution_count": 11,
   "metadata": {
    "colab": {
     "base_uri": "https://localhost:8080/"
    },
    "id": "N6nIDVR26HEp",
    "outputId": "2052a707-9d2d-4c6d-c525-382927e21fb1"
   },
   "outputs": [
    {
     "name": "stdout",
     "output_type": "stream",
     "text": [
      "5.005932 10.356727775833333 9.587952999999999 21.899041\n"
     ]
    }
   ],
   "source": [
    "# get the age to predict from the CSV file\n",
    "meta = pd.read_csv(train_path + \"train_subjects.csv\")\n",
    "y_train = []\n",
    "for age in meta.age[:1200]:\n",
    "    y_train.append(age)\n",
    "print(np.min(y_train), np.mean(y_train), np.median(y_train), np.max(y_train))"
   ]
  },
  {
   "cell_type": "code",
   "execution_count": 12,
   "metadata": {
    "id": "dGKoWx0x7RtW"
   },
   "outputs": [],
   "source": [
    "train_data = CustomDataset(train_path, train_subj, y_train[:train_subj], 1)"
   ]
  },
  {
   "cell_type": "code",
   "execution_count": 13,
   "metadata": {
    "id": "oTaTW4HK9PEH"
   },
   "outputs": [],
   "source": [
    "val_data = CustomDataset(train_path, val_subj, y_train[train_subj:train_subj+val_subj], 1 + train_subj)"
   ]
  },
  {
   "cell_type": "code",
   "execution_count": 14,
   "metadata": {
    "id": "7uDN-yCC-FUW"
   },
   "outputs": [],
   "source": [
    "# DataLoader\n",
    "batch_size = 8\n",
    "\n",
    "train_loader = DataLoader(\n",
    "    train_data,\n",
    "    batch_size=batch_size,\n",
    "    num_workers=1\n",
    ")\n",
    "\n",
    "val_loader = DataLoader(\n",
    "    val_data,\n",
    "    batch_size=batch_size,\n",
    "    num_workers=1\n",
    ")"
   ]
  },
  {
   "cell_type": "code",
   "execution_count": 15,
   "metadata": {
    "id": "C3iXStPhW0Pk"
   },
   "outputs": [],
   "source": [
    "# final_test_ages = [0 for i in range(test_subj)]\n",
    "# final_test_data = CustomDataset(final_test_path, test_subj, final_test_ages, 1201)"
   ]
  },
  {
   "cell_type": "code",
   "execution_count": 16,
   "metadata": {
    "id": "VsQLcCEmLu5R"
   },
   "outputs": [],
   "source": [
    "# test_loader = DataLoader(\n",
    "#     final_test_data,\n",
    "#     batch_size=batch_size,\n",
    "#     num_workers=1\n",
    "# )"
   ]
  },
  {
   "cell_type": "code",
   "execution_count": 17,
   "metadata": {
    "id": "kEVFkDNr-fro"
   },
   "outputs": [],
   "source": [
    "class AgeNET(nn.Module):\n",
    "    def conv_block(self, in_channels, out_channels, kernel, stride, pool):\n",
    "        return nn.Sequential(\n",
    "            nn.Conv2d(in_channels=in_channels, out_channels=out_channels, kernel_size=kernel, stride=stride, padding=0),\n",
    "            nn.LeakyReLU(),\n",
    "            nn.AvgPool2d(kernel_size=(1, pool), stride=(1, pool))\n",
    "        ).to(DEVICE)\n",
    "    def __init__(self, sampling_rate, num_T, num_C):\n",
    "        super().__init__()\n",
    "        self.device = torch.device(DEVICE)\n",
    "        print(DEVICE)\n",
    "        self.to(DEVICE)\n",
    "        self.pool = 4\n",
    "        self.state = 0\n",
    "        self.Time1_eo = self.conv_block(1, num_T, (1, sampling_rate//2), 1, self.pool*4)\n",
    "        self.Time2_eo = self.conv_block(1, num_T, (1, sampling_rate//4), 1, self.pool*4)\n",
    "        self.Time3_eo = self.conv_block(1, num_T, (1, sampling_rate//8), 1, self.pool*4)\n",
    "        self.Time1_ec = self.conv_block(1, num_T, (1, sampling_rate//2), 1, self.pool*4)\n",
    "        self.Time2_ec = self.conv_block(1, num_T, (1, sampling_rate//4), 1, self.pool*4)\n",
    "        self.Time3_ec = self.conv_block(1, num_T, (1, sampling_rate//8), 1, self.pool*4)\n",
    "        self.BN_T_eo = nn.BatchNorm2d(num_T).to(DEVICE)\n",
    "        self.BN_T_ec = nn.BatchNorm2d(num_T).to(DEVICE)\n",
    "        self.Chan1_eo = self.conv_block(num_T, num_C, (129, 1), 1, self.pool)\n",
    "        self.Chan2_eo = self.conv_block(num_T, num_C, (65, 1), (64, 1), self.pool)\n",
    "        # self.Chan3_eo = self.conv_block(num_T, num_C, (32, 1), (32, 1), self.pool)\n",
    "        self.Chan1_ec = self.conv_block(num_T, num_C, (129, 1), 1, self.pool)\n",
    "        self.Chan2_ec = self.conv_block(num_T, num_C, (65, 1), (64, 1), self.pool)\n",
    "        # self.Chan3_ec = self.conv_block(num_T, num_C, (32, 1), (32, 1), self.pool)\n",
    "        self.BN_C_eo = nn.BatchNorm2d(num_C).to(DEVICE)\n",
    "        self.BN_C_ec = nn.BatchNorm2d(num_C).to(DEVICE)\n",
    "        size_eo, size_ec = self.get_size()\n",
    "        print(size_eo, size_ec)\n",
    "        self.fc_eo = nn.Sequential(\n",
    "            nn.Flatten(),\n",
    "            nn.Linear(in_features=size_eo, out_features=1024, bias=True),\n",
    "            nn.BatchNorm1d(1024),\n",
    "            nn.ReLU(),\n",
    "            nn.Dropout(p=0.5, inplace=False)\n",
    "        )\n",
    "        self.fc_ec = nn.Sequential(\n",
    "            nn.Flatten(),\n",
    "            nn.Linear(in_features=size_ec, out_features=2048, bias=True),\n",
    "            nn.BatchNorm1d(2048),\n",
    "            nn.ReLU(),\n",
    "            nn.Dropout(p=0.5, inplace=False)\n",
    "        )\n",
    "        self.classifier = nn.Sequential(\n",
    "            nn.Linear(in_features=3072, out_features=1024, bias=True),\n",
    "            nn.BatchNorm1d(1024),\n",
    "            nn.ReLU(),\n",
    "            nn.Dropout(p=0.5, inplace=False),\n",
    "            # nn.Linear(in_features=4096, out_features=2048, bias=True),\n",
    "            # nn.BatchNorm1d(2048),\n",
    "            # nn.ReLU(),\n",
    "            # nn.Dropout(p=0.003, inplace=False),\n",
    "            # nn.Linear(in_features=2048, out_features=1024, bias=True),\n",
    "            # nn.BatchNorm1d(1024),\n",
    "            # nn.ReLU(),\n",
    "            # nn.Dropout(p=0.002, inplace=False),\n",
    "            nn.Linear(in_features=1024, out_features=512, bias=True),\n",
    "            nn.BatchNorm1d(512),\n",
    "            nn.ReLU(),\n",
    "            nn.Dropout(p=0.5, inplace=False),\n",
    "            nn.Linear(in_features=512, out_features=256, bias=True),\n",
    "            nn.BatchNorm1d(256),\n",
    "            nn.ReLU(),\n",
    "            nn.Dropout(p=0.3, inplace=False),\n",
    "            nn.Linear(in_features=256, out_features=64, bias=True),\n",
    "            nn.BatchNorm1d(64),\n",
    "            nn.ReLU(),\n",
    "        )\n",
    "#         self.last_layer = []\n",
    "#         for j in out_len:\n",
    "#             self.last_layer.append(\n",
    "#                 nn.Sequential(\n",
    "#                     nn.Linear(in_features=64, out_features=j, bias=True, device=DEVICE),\n",
    "#                     nn.ReLU()\n",
    "#                 )\n",
    "#             )\n",
    "        self.l_l0 = nn.Sequential(\n",
    "                    nn.Linear(in_features=64, out_features=25, bias=True),\n",
    "                    nn.ReLU()\n",
    "                )\n",
    "        self.l_l1 = nn.Sequential(\n",
    "                    nn.Linear(in_features=64, out_features=1, bias=True),\n",
    "                    nn.ReLU()\n",
    "                )\n",
    "    def forward(self, x_eo, x_ec):\n",
    "        y = self.Time1_eo(x_eo)\n",
    "        out_eo = y\n",
    "        y = self.Time2_eo(x_eo)\n",
    "        out_eo = torch.cat((out_eo, y), dim=-1)\n",
    "        y = self.Time3_eo(x_eo)\n",
    "        out_eo = torch.cat((out_eo, y), dim=-1)\n",
    "        y = self.Time1_ec(x_ec)\n",
    "        out_ec = y\n",
    "        y = self.Time2_ec(x_ec)\n",
    "        out_ec = torch.cat((out_ec, y), dim=-1)\n",
    "        y = self.Time3_ec(x_ec)\n",
    "        out_ec = torch.cat((out_ec, y), dim=-1)\n",
    "        out_eo = self.BN_T_eo(out_eo)\n",
    "        out_ec = self.BN_T_ec(out_ec)\n",
    "        z = self.Chan1_eo(out_eo)\n",
    "        out_f_eo = z\n",
    "        z = self.Chan2_eo(out_eo)\n",
    "        out_f_eo = torch.cat((out_f_eo, z), dim=2)\n",
    "        # z = self.Chan3_eo(out_eo)\n",
    "        # out_f_eo = torch.cat((out_f_eo, z), dim=2)\n",
    "        z = self.Chan1_ec(out_ec)\n",
    "        out_f_ec = z\n",
    "        z = self.Chan2_ec(out_ec)\n",
    "        out_f_ec = torch.cat((out_f_ec, z), dim=2)\n",
    "        # z = self.Chan3_ec(out_ec)\n",
    "        # out_f_ec = torch.cat((out_f_ec, z), dim=2)\n",
    "        out_f_eo = self.BN_C_eo(out_f_eo)\n",
    "        out_f_ec = self.BN_C_ec(out_f_ec)\n",
    "        out = torch.cat((self.fc_eo(out_f_eo), self.fc_ec(out_f_ec)), dim=-1)\n",
    "        out = self.classifier(out)\n",
    "        if self.state == 0:\n",
    "            out = self.l_l0(out)\n",
    "        else:\n",
    "            out = self.l_l1(out)\n",
    "        return out\n",
    "    def switch_state(self):\n",
    "        self.state = 1 - self.state\n",
    "    def set_state(self, st):\n",
    "        self.state = st\n",
    "    def get_state(self):\n",
    "        return self.state\n",
    "    def get_size(self):\n",
    "        d_eo = torch.ones(1, 1, 129, 10000).to(DEVICE)\n",
    "        d_ec = torch.ones(1, 1, 129, 20000).to(DEVICE)\n",
    "        y = self.Time1_eo(d_eo)\n",
    "        out_eo = y\n",
    "        y = self.Time2_eo(d_eo)\n",
    "        out_eo = torch.cat((out_eo, y), dim=-1)\n",
    "        y = self.Time3_eo(d_eo)\n",
    "        out_eo = torch.cat((out_eo, y), dim=-1)\n",
    "        y = self.Time1_ec(d_ec)\n",
    "        out_ec = y\n",
    "        y = self.Time2_ec(d_ec)\n",
    "        out_ec = torch.cat((out_ec, y), dim=-1)\n",
    "        y = self.Time3_ec(d_ec)\n",
    "        out_ec = torch.cat((out_ec, y), dim=-1)\n",
    "        out_eo = self.BN_T_eo(out_eo)\n",
    "        out_ec = self.BN_T_ec(out_ec)\n",
    "        z = self.Chan1_eo(out_eo)\n",
    "        out_f_eo = z\n",
    "        z = self.Chan2_eo(out_eo)\n",
    "        out_f_eo = torch.cat((out_f_eo, z), dim=2)\n",
    "        # z = self.Chan3_eo(out_eo)\n",
    "        # out_f_eo = torch.cat((out_f_eo, z), dim=2)\n",
    "        z = self.Chan1_ec(out_ec)\n",
    "        out_f_ec = z\n",
    "        z = self.Chan2_ec(out_ec)\n",
    "        out_f_ec = torch.cat((out_f_ec, z), dim=2)\n",
    "        # z = self.Chan3_ec(out_ec)\n",
    "        # out_f_ec = torch.cat((out_f_ec, z), dim=2)\n",
    "        return torch.numel(out_f_eo), torch.numel(out_f_ec)"
   ]
  },
  {
   "cell_type": "code",
   "execution_count": 18,
   "metadata": {
    "colab": {
     "base_uri": "https://localhost:8080/"
    },
    "id": "ySNOp6gHX1JC",
    "outputId": "e292407a-c6eb-4bc6-b2b4-9571c2c356e2"
   },
   "outputs": [
    {
     "name": "stdout",
     "output_type": "stream",
     "text": [
      "cuda\n",
      "8298 16740\n"
     ]
    }
   ],
   "source": [
    "model_A = AgeNET(512, 9, 6).to(DEVICE)"
   ]
  },
  {
   "cell_type": "code",
   "execution_count": 19,
   "metadata": {
    "id": "NP8nqTcCNe76"
   },
   "outputs": [],
   "source": [
    "model_A = model_A.to(DEVICE)"
   ]
  },
  {
   "cell_type": "code",
   "execution_count": 20,
   "metadata": {
    "colab": {
     "base_uri": "https://localhost:8080/"
    },
    "id": "WathzNO-aU1x",
    "outputId": "ce971b34-d7e0-43bf-b2f0-e195ce6d3a22"
   },
   "outputs": [
    {
     "name": "stdout",
     "output_type": "stream",
     "text": [
      "----------------------------------------------------------------\n",
      "        Layer (type)               Output Shape         Param #\n",
      "================================================================\n",
      "            Conv2d-1         [-1, 9, 129, 9745]           2,313\n",
      "         LeakyReLU-2         [-1, 9, 129, 9745]               0\n",
      "         AvgPool2d-3          [-1, 9, 129, 609]               0\n",
      "            Conv2d-4         [-1, 9, 129, 9873]           1,161\n",
      "         LeakyReLU-5         [-1, 9, 129, 9873]               0\n",
      "         AvgPool2d-6          [-1, 9, 129, 617]               0\n",
      "            Conv2d-7         [-1, 9, 129, 9937]             585\n",
      "         LeakyReLU-8         [-1, 9, 129, 9937]               0\n",
      "         AvgPool2d-9          [-1, 9, 129, 621]               0\n",
      "           Conv2d-10        [-1, 9, 129, 19745]           2,313\n",
      "        LeakyReLU-11        [-1, 9, 129, 19745]               0\n",
      "        AvgPool2d-12         [-1, 9, 129, 1234]               0\n",
      "           Conv2d-13        [-1, 9, 129, 19873]           1,161\n",
      "        LeakyReLU-14        [-1, 9, 129, 19873]               0\n",
      "        AvgPool2d-15         [-1, 9, 129, 1242]               0\n",
      "           Conv2d-16        [-1, 9, 129, 19937]             585\n",
      "        LeakyReLU-17        [-1, 9, 129, 19937]               0\n",
      "        AvgPool2d-18         [-1, 9, 129, 1246]               0\n",
      "      BatchNorm2d-19         [-1, 9, 129, 1847]              18\n",
      "      BatchNorm2d-20         [-1, 9, 129, 3722]              18\n",
      "           Conv2d-21           [-1, 6, 1, 1847]           6,972\n",
      "        LeakyReLU-22           [-1, 6, 1, 1847]               0\n",
      "        AvgPool2d-23            [-1, 6, 1, 461]               0\n",
      "           Conv2d-24           [-1, 6, 2, 1847]           3,516\n",
      "        LeakyReLU-25           [-1, 6, 2, 1847]               0\n",
      "        AvgPool2d-26            [-1, 6, 2, 461]               0\n",
      "           Conv2d-27           [-1, 6, 1, 3722]           6,972\n",
      "        LeakyReLU-28           [-1, 6, 1, 3722]               0\n",
      "        AvgPool2d-29            [-1, 6, 1, 930]               0\n",
      "           Conv2d-30           [-1, 6, 2, 3722]           3,516\n",
      "        LeakyReLU-31           [-1, 6, 2, 3722]               0\n",
      "        AvgPool2d-32            [-1, 6, 2, 930]               0\n",
      "      BatchNorm2d-33            [-1, 6, 3, 461]              12\n",
      "      BatchNorm2d-34            [-1, 6, 3, 930]              12\n",
      "          Flatten-35                 [-1, 8298]               0\n",
      "           Linear-36                 [-1, 1024]       8,498,176\n",
      "      BatchNorm1d-37                 [-1, 1024]           2,048\n",
      "             ReLU-38                 [-1, 1024]               0\n",
      "          Dropout-39                 [-1, 1024]               0\n",
      "          Flatten-40                [-1, 16740]               0\n",
      "           Linear-41                 [-1, 2048]      34,285,568\n",
      "      BatchNorm1d-42                 [-1, 2048]           4,096\n",
      "             ReLU-43                 [-1, 2048]               0\n",
      "          Dropout-44                 [-1, 2048]               0\n",
      "           Linear-45                 [-1, 1024]       3,146,752\n",
      "      BatchNorm1d-46                 [-1, 1024]           2,048\n",
      "             ReLU-47                 [-1, 1024]               0\n",
      "          Dropout-48                 [-1, 1024]               0\n",
      "           Linear-49                  [-1, 512]         524,800\n",
      "      BatchNorm1d-50                  [-1, 512]           1,024\n",
      "             ReLU-51                  [-1, 512]               0\n",
      "          Dropout-52                  [-1, 512]               0\n",
      "           Linear-53                  [-1, 256]         131,328\n",
      "      BatchNorm1d-54                  [-1, 256]             512\n",
      "             ReLU-55                  [-1, 256]               0\n",
      "          Dropout-56                  [-1, 256]               0\n",
      "           Linear-57                   [-1, 64]          16,448\n",
      "      BatchNorm1d-58                   [-1, 64]             128\n",
      "             ReLU-59                   [-1, 64]               0\n",
      "           Linear-60                   [-1, 25]           1,625\n",
      "             ReLU-61                   [-1, 25]               0\n",
      "================================================================\n",
      "Total params: 46,643,707\n",
      "Trainable params: 46,643,707\n",
      "Non-trainable params: 0\n",
      "----------------------------------------------------------------\n",
      "Input size (MB): 12696075.44\n",
      "Forward/backward pass size (MB): 1679.53\n",
      "Params size (MB): 177.93\n",
      "Estimated Total Size (MB): 12697932.91\n",
      "----------------------------------------------------------------\n"
     ]
    }
   ],
   "source": [
    "from torchsummary import summary\n",
    "\n",
    "summary(model_A, [(1, 129, 10000), (1, 129, 20000)])"
   ]
  },
  {
   "cell_type": "code",
   "execution_count": 21,
   "metadata": {
    "id": "FXbbwFatbzuW"
   },
   "outputs": [],
   "source": [
    "def train(model, device, train_loader, val_loader, lr, epochs):\n",
    "    train_abs_log = []\n",
    "    train_log = []\n",
    "    val_log = []\n",
    "    val_abs_log = []\n",
    "    abs_loss = nn.L1Loss(reduction='mean')\n",
    "    lossfunc = nn.CrossEntropyLoss(reduction='mean')\n",
    "    optimizer = torch.optim.NAdam(model.parameters(), lr=lr)\n",
    "    f = plt.figure()\n",
    "    xr = 0\n",
    "    for epoch in range(epochs):\n",
    "        train_abs_loss = 0.0\n",
    "        train_loss = 0.0\n",
    "        print(f\"Epoch #{1 + epoch:02}: \")\n",
    "        i = 0\n",
    "        model.train()\n",
    "        for data, age in train_loader:\n",
    "            data_eo, data_ec = data\n",
    "            data_eo = data_eo.to(device)           # shape = (batch_size, 1, 129, 10000)\n",
    "            data_ec = data_ec.to(device)           # shape = (batch_size, 1, 129, 20000)\n",
    "            batch_size = age.size(0)\n",
    "            optimizer.zero_grad()\n",
    "            output = model(data_eo, data_ec)       # shape = (batch_size, 25)\n",
    "            if model.get_state() == 1:\n",
    "                loss = abs_loss(torch.squeeze(output), age.float().to(device))\n",
    "                train_abs_loss += loss.item() * batch_size\n",
    "            else:\n",
    "                loss = lossfunc(output, np.around(age).to(torch.int64).to(device))\n",
    "                train_abs_loss += abs_loss(torch.argmax(output, dim=-1), age.to(DEVICE)).item() * batch_size\n",
    "            loss.backward()\n",
    "            optimizer.step()\n",
    "            print(i)\n",
    "            i += batch_size\n",
    "            train_loss += loss.item() * batch_size\n",
    "        train_abs_loss /= train_subj\n",
    "        train_loss /= train_subj\n",
    "        train_abs_log.append(train_abs_loss)\n",
    "        train_log.append(train_loss)\n",
    "        val_abs_loss = 0.0\n",
    "        val_loss=0.0\n",
    "        model.eval()\n",
    "        for data, age in val_loader:\n",
    "            data_eo, data_ec = data\n",
    "            data_eo = data_eo.to(device)           # shape = (batch_size, 129, 10000)\n",
    "            data_ec = data_ec.to(device)           # shape = (batch_size, 129, 20000)\n",
    "            batch_size = age.size(0)\n",
    "            output = model(data_eo, data_ec)       # shape = (batch_size, 25)\n",
    "            if model.get_state() == 1:\n",
    "                loss = abs_loss(torch.squeeze(output), age.float().to(device))\n",
    "                val_abs_loss += loss.item() * batch_size\n",
    "            else:\n",
    "                loss = lossfunc(output, np.around(age).to(torch.int64).to(device))\n",
    "                val_abs_loss += abs_loss(torch.argmax(output, dim=-1), age.to(DEVICE)).item() * batch_size\n",
    "\n",
    "            val_loss += loss.item() * batch_size\n",
    "        val_abs_loss /= val_subj\n",
    "        val_loss /= val_subj\n",
    "        val_abs_log.append(val_abs_loss)\n",
    "        val_log.append(val_loss)\n",
    "        print(f\"CrossEntropyLoss:     train = {train_loss}, validation = {val_loss}\")\n",
    "        print(f\"mean absolute error:  train = {train_abs_loss}, validation = {val_abs_loss}\")\n",
    "        plt.clf()\n",
    "        plt.plot(train_log, label='train loss')\n",
    "        plt.plot(val_log, label='validation loss')\n",
    "        plt.xlabel('epoch')\n",
    "        plt.ylabel('loss')\n",
    "        plt.title('Loss')\n",
    "        plt.legend()\n",
    "        plt.show()\n",
    "        xr += 1\n",
    "        if xr % 5 == 0:\n",
    "            model.switch_state()\n",
    "    return train_abs_log, val_abs_log"
   ]
  },
  {
   "cell_type": "code",
   "execution_count": null,
   "metadata": {
    "colab": {
     "base_uri": "https://localhost:8080/"
    },
    "id": "9YhuPAGVLmsq",
    "outputId": "bb6739cb-2343-4f86-d2e6-ffa460060fa2"
   },
   "outputs": [
    {
     "name": "stdout",
     "output_type": "stream",
     "text": [
      "Epoch #01: \n",
      "0\n",
      "8\n"
     ]
    }
   ],
   "source": [
    "train_abs_log, val_abs_log = train(model_A, DEVICE, train_loader, val_loader, 0.004, 30)"
   ]
  },
  {
   "cell_type": "code",
   "execution_count": null,
   "metadata": {
    "id": "mFpBG0LZNe77"
   },
   "outputs": [],
   "source": [
    "def test(model, device, test_loader):\n",
    "    y_pred = []\n",
    "    model.eval()\n",
    "    model.set_state(1)\n",
    "    for data, age in test_loader:\n",
    "        data_eo, data_ec = data\n",
    "        data_eo = data_eo.to(device)           # shape = (batch_size, 129, 10000)\n",
    "        data_ec = data_ec.to(device)           # shape = (batch_size, 129, 20000)\n",
    "        x = torch.cat((data_eo, data_ec), -1)  # shape = (batch_size, 129, 30000)\n",
    "        output = torch.squeeze(model(x))\n",
    "        #print(output.shape)\n",
    "        y_pred.extend(list(output.detach().cpu().numpy()))\n",
    "    return y_pred"
   ]
  },
  {
   "cell_type": "code",
   "execution_count": null,
   "metadata": {
    "collapsed": false
   },
   "outputs": [],
   "source": [
    "torch.save(model_A.state_dict(), \"/home/deepak/learning_project/model_scripted.pt\")"
   ]
  },
  {
   "cell_type": "code",
   "execution_count": null,
   "metadata": {
    "id": "5mDiDsZlBFo7"
   },
   "outputs": [],
   "source": [
    "# y_pred = test(model_A, DEVICE, test_loader)"
   ]
  },
  {
   "cell_type": "code",
   "execution_count": null,
   "metadata": {
    "id": "q4w6KP4bBLoV"
   },
   "outputs": [],
   "source": [
    "# # create submission file\n",
    "# submission = []\n",
    "# for subj, pred in zip(range(1201, 1201 + test_subj), y_pred):\n",
    "#     submission.append({\"id\": subj, \"age\": pred})\n",
    "# pd.DataFrame(submission).to_csv(\"mysubmission3_0.csv\", index=False)\n",
    "#\n",
    "# # zip the csv file (without anything else) and submit it on the website!"
   ]
  }
 ],
 "metadata": {
  "accelerator": "GPU",
  "colab": {
   "provenance": []
  },
  "gpuClass": "standard",
  "kernelspec": {
   "display_name": "Python 3 (ipykernel)",
   "language": "python",
   "name": "python3"
  },
  "language_info": {
   "codemirror_mode": {
    "name": "ipython",
    "version": 3
   },
   "file_extension": ".py",
   "mimetype": "text/x-python",
   "name": "python",
   "nbconvert_exporter": "python",
   "pygments_lexer": "ipython3",
   "version": "3.8.10"
  }
 },
 "nbformat": 4,
 "nbformat_minor": 0
}
