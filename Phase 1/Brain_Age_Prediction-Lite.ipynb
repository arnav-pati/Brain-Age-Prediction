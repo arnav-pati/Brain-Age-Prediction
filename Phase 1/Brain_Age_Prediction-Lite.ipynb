{
 "nbformat": 4,
 "nbformat_minor": 0,
 "metadata": {
  "colab": {
   "provenance": []
  },
  "kernelspec": {
   "name": "python3",
   "display_name": "Python 3"
  },
  "language_info": {
   "name": "python"
  },
  "gpuClass": "standard",
  "accelerator": "GPU"
 },
 "cells": [
  {
   "cell_type": "code",
   "source": [
    "# from google.colab import drive\n",
    "# drive.mount('/content/gdrive')"
   ],
   "metadata": {
    "colab": {
     "base_uri": "https://localhost:8080/"
    },
    "id": "PfNVuLK6hxWQ",
    "outputId": "fc4c6079-2a33-4288-a14b-948cf7fdf423"
   },
   "execution_count": null,
   "outputs": []
  },
  {
   "cell_type": "code",
   "execution_count": 2,
   "metadata": {
    "colab": {
     "base_uri": "https://localhost:8080/"
    },
    "id": "5uI5mtMEhKpC",
    "outputId": "36940bbe-46ec-463e-d655-8115e0cf0d16"
   },
   "outputs": [
    {
     "name": "stdout",
     "output_type": "stream",
     "text": [
      "Requirement already satisfied: mne in c:\\users\\arnav\\appdata\\local\\programs\\python\\python310\\lib\\site-packages (1.2.2)\n",
      "Requirement already satisfied: matplotlib in c:\\users\\arnav\\appdata\\local\\programs\\python\\python310\\lib\\site-packages (from mne) (3.5.2)\n",
      "Requirement already satisfied: packaging in c:\\users\\arnav\\appdata\\local\\programs\\python\\python310\\lib\\site-packages (from mne) (21.3)\n",
      "Requirement already satisfied: decorator in c:\\users\\arnav\\appdata\\local\\programs\\python\\python310\\lib\\site-packages (from mne) (5.1.1)\n",
      "Requirement already satisfied: scipy>=1.1.0 in c:\\users\\arnav\\appdata\\local\\programs\\python\\python310\\lib\\site-packages (from mne) (1.9.3)\n",
      "Requirement already satisfied: jinja2 in c:\\users\\arnav\\appdata\\local\\programs\\python\\python310\\lib\\site-packages (from mne) (3.1.2)\n",
      "Requirement already satisfied: tqdm in c:\\users\\arnav\\appdata\\local\\programs\\python\\python310\\lib\\site-packages (from mne) (4.64.0)\n",
      "Requirement already satisfied: numpy>=1.15.4 in c:\\users\\arnav\\appdata\\local\\programs\\python\\python310\\lib\\site-packages (from mne) (1.22.4)\n",
      "Requirement already satisfied: pooch>=1.5 in c:\\users\\arnav\\appdata\\local\\programs\\python\\python310\\lib\\site-packages (from mne) (1.6.0)\n",
      "Requirement already satisfied: requests>=2.19.0 in c:\\users\\arnav\\appdata\\local\\programs\\python\\python310\\lib\\site-packages (from pooch>=1.5->mne) (2.27.0)\n",
      "Requirement already satisfied: appdirs>=1.3.0 in c:\\users\\arnav\\appdata\\local\\programs\\python\\python310\\lib\\site-packages (from pooch>=1.5->mne) (1.4.4)\n",
      "Requirement already satisfied: pyparsing!=3.0.5,>=2.0.2 in c:\\users\\arnav\\appdata\\local\\programs\\python\\python310\\lib\\site-packages (from packaging->mne) (3.0.9)\n",
      "Requirement already satisfied: MarkupSafe>=2.0 in c:\\users\\arnav\\appdata\\local\\programs\\python\\python310\\lib\\site-packages (from jinja2->mne) (2.1.1)\n",
      "Requirement already satisfied: fonttools>=4.22.0 in c:\\users\\arnav\\appdata\\local\\programs\\python\\python310\\lib\\site-packages (from matplotlib->mne) (4.34.4)\n",
      "Requirement already satisfied: python-dateutil>=2.7 in c:\\users\\arnav\\appdata\\local\\programs\\python\\python310\\lib\\site-packages (from matplotlib->mne) (2.8.2)\n",
      "Requirement already satisfied: pillow>=6.2.0 in c:\\users\\arnav\\appdata\\local\\programs\\python\\python310\\lib\\site-packages (from matplotlib->mne) (9.0.0)\n",
      "Requirement already satisfied: cycler>=0.10 in c:\\users\\arnav\\appdata\\local\\programs\\python\\python310\\lib\\site-packages (from matplotlib->mne) (0.11.0)\n",
      "Requirement already satisfied: kiwisolver>=1.0.1 in c:\\users\\arnav\\appdata\\local\\programs\\python\\python310\\lib\\site-packages (from matplotlib->mne) (1.4.4)\n",
      "Requirement already satisfied: colorama in c:\\users\\arnav\\appdata\\local\\programs\\python\\python310\\lib\\site-packages (from tqdm->mne) (0.4.4)\n",
      "Requirement already satisfied: six>=1.5 in c:\\users\\arnav\\appdata\\local\\programs\\python\\python310\\lib\\site-packages (from python-dateutil>=2.7->matplotlib->mne) (1.16.0)\n",
      "Requirement already satisfied: urllib3<1.27,>=1.21.1 in c:\\users\\arnav\\appdata\\local\\programs\\python\\python310\\lib\\site-packages (from requests>=2.19.0->pooch>=1.5->mne) (1.26.7)\n",
      "Requirement already satisfied: idna<4,>=2.5 in c:\\users\\arnav\\appdata\\local\\programs\\python\\python310\\lib\\site-packages (from requests>=2.19.0->pooch>=1.5->mne) (3.3)\n",
      "Requirement already satisfied: charset-normalizer~=2.0.0 in c:\\users\\arnav\\appdata\\local\\programs\\python\\python310\\lib\\site-packages (from requests>=2.19.0->pooch>=1.5->mne) (2.0.10)\n",
      "Requirement already satisfied: certifi>=2017.4.17 in c:\\users\\arnav\\appdata\\local\\programs\\python\\python310\\lib\\site-packages (from requests>=2.19.0->pooch>=1.5->mne) (2021.10.8)\n"
     ]
    },
    {
     "name": "stderr",
     "output_type": "stream",
     "text": [
      "WARNING: There was an error checking the latest version of pip.\n"
     ]
    }
   ],
   "source": [
    "# !pip install mne"
   ]
  },
  {
   "cell_type": "code",
   "source": [
    "# !pip install --pre torch torchvision -f https://download.pytorch.org/whl/nightly/cu111/torch_nightly.html -U"
   ],
   "metadata": {
    "colab": {
     "base_uri": "https://localhost:8080/"
    },
    "id": "lgQ-TOHDhXhU",
    "outputId": "c98b1213-49e6-4dbc-ee62-5a5cf09e2053"
   },
   "execution_count": null,
   "outputs": []
  },
  {
   "cell_type": "code",
   "source": [
    "######################################################################################################\n",
    "#  ________   _________   ___    ___ ___  ___  ________  ________  ___  __      _______   _______\n",
    "# |\\   ___  \\|\\___   ___\\|\\  \\  /  /|\\  \\|\\  \\|\\   __  \\|\\   ____\\|\\  \\|\\  \\   /  ___  \\ /  ___  \\\n",
    "# \\ \\  \\\\ \\  \\|___ \\  \\_|\\ \\  \\/  / | \\  \\\\\\  \\ \\  \\|\\  \\ \\  \\___|\\ \\  \\/  /|_/__/|_/  //__/|_/  /|\n",
    "#  \\ \\  \\\\ \\  \\   \\ \\  \\  \\ \\    / / \\ \\   __  \\ \\   __  \\ \\  \\    \\ \\   ___  \\__|//  / /__|//  / /\n",
    "#   \\ \\  \\\\ \\  \\   \\ \\  \\  /     \\/   \\ \\  \\ \\  \\ \\  \\ \\  \\ \\  \\____\\ \\  \\\\ \\  \\  /  /_/__  /  /_/__\n",
    "#    \\ \\__\\\\ \\__\\   \\ \\__\\/  /\\   \\    \\ \\__\\ \\__\\ \\__\\ \\__\\ \\_______\\ \\__\\\\ \\__\\|\\________\\\\________\\\n",
    "#     \\|__| \\|__|    \\|__/__/ /\\ __\\    \\|__|\\|__|\\|__|\\|__|\\|_______|\\|__| \\|__| \\|_______|\\|_______|\n",
    "#                        |__|/ \\|__|\n",
    "######################################################################################################\n",
    "\n",
    "import mne\n",
    "import numpy as np\n",
    "import pandas as pd\n",
    "import matplotlib.pyplot as plt\n",
    "import torch\n",
    "from torch import nn\n",
    "import random\n",
    "from torch.utils.data import Dataset, DataLoader\n",
    "from mne.decoding import Vectorizer\n",
    "torch.manual_seed(42)"
   ],
   "metadata": {
    "colab": {
     "base_uri": "https://localhost:8080/"
    },
    "id": "kX7nj-8ghc9I",
    "outputId": "ed23d5d9-2bcc-4404-f408-7215763a14f2"
   },
   "execution_count": 4,
   "outputs": [
    {
     "data": {
      "text/plain": "<torch._C.Generator at 0x224c3c60e70>"
     },
     "execution_count": 4,
     "metadata": {},
     "output_type": "execute_result"
    }
   ]
  },
  {
   "cell_type": "code",
   "source": [
    "DEVICE = \"cuda\" if torch.cuda.is_available() else \"cpu\"\n",
    "print(DEVICE)"
   ],
   "metadata": {
    "colab": {
     "base_uri": "https://localhost:8080/"
    },
    "id": "TzkDg4Sjhrsq",
    "outputId": "6a411f1b-c606-4d3a-cef8-cfbf7c01b7bf"
   },
   "execution_count": 5,
   "outputs": [
    {
     "name": "stdout",
     "output_type": "stream",
     "text": [
      "cpu\n"
     ]
    }
   ]
  },
  {
   "cell_type": "code",
   "source": [
    "# Path to training data\n",
    "train_path = \"D:/training/\""
   ],
   "metadata": {
    "id": "V3hErMUIiGYq"
   },
   "execution_count": 12,
   "outputs": []
  },
  {
   "cell_type": "code",
   "source": [
    "# Path to testing data (public test set)\n",
    "test_path = \"/content/gdrive/My Drive/codalab/testing_flat/\""
   ],
   "metadata": {
    "id": "R9jQhK1_n8-Q"
   },
   "execution_count": 7,
   "outputs": []
  },
  {
   "cell_type": "code",
   "source": [
    "condition_ec = \"EC\"  # closed eyes condition\n",
    "condition_eo = \"EO\"  # closed eyes condition\n",
    "train_subj = 1100  # use 1100 of the 1200 training subjects for training\n",
    "val_subj = 100   # use 100 of the 1200 training subjects for validation\n",
    "test_subj = 400  # use 10 instead of 400 testing subjects, for demonstration purpose"
   ],
   "metadata": {
    "id": "9huk96LFoNTD"
   },
   "execution_count": 9,
   "outputs": []
  },
  {
   "cell_type": "code",
   "source": [
    "class CustomDataset(Dataset):\n",
    "    def __init__(self, path, subj, ages, start):\n",
    "        self.path = path\n",
    "        self.subj = subj\n",
    "        self.ages = ages\n",
    "        self.start = start\n",
    "    def __len__(self):\n",
    "        return self.subj\n",
    "    def __getitem__(self, idx):\n",
    "        s = idx + self.start\n",
    "        fname = f\"subj{s:04}_{condition_eo}_raw.fif.gz\"\n",
    "        raw = mne.io.read_raw(self.path + fname, preload=True, verbose='warning')\n",
    "        d = raw.get_data()\n",
    "        ft = d.shape[-1]\n",
    "        data_eo = torch.zeros(1, 129, 10000)\n",
    "        data_eo[:, :, :ft] = -200 * torch.tensor(d)\n",
    "        fname = f\"subj{s:04}_{condition_ec}_raw.fif.gz\"\n",
    "        raw = mne.io.read_raw(self.path + fname, preload=True, verbose='warning')\n",
    "        d = raw.get_data()\n",
    "        ft = d.shape[-1]\n",
    "        data_ec = torch.zeros(1, 129, 20000)\n",
    "        data_ec[:, :, :ft] = -200 * torch.tensor(d)\n",
    "        data = (data_eo, data_ec)\n",
    "        age = self.ages[idx]\n",
    "        return data, age"
   ],
   "metadata": {
    "id": "GH6upu6g3Qfx"
   },
   "execution_count": 10,
   "outputs": []
  },
  {
   "cell_type": "code",
   "source": [
    "# get the age to predict from the CSV file\n",
    "meta = pd.read_csv(train_path + \"train_subjects.csv\")\n",
    "y_train = []\n",
    "for age in meta.age[:1200]:\n",
    "    y_train.append(age)\n",
    "print(np.min(y_train), np.mean(y_train), np.median(y_train), np.max(y_train))"
   ],
   "metadata": {
    "colab": {
     "base_uri": "https://localhost:8080/"
    },
    "id": "N6nIDVR26HEp",
    "outputId": "97af7ff3-c770-4a1a-c14e-ca4413554179"
   },
   "execution_count": 13,
   "outputs": [
    {
     "name": "stdout",
     "output_type": "stream",
     "text": [
      "5.005932 10.356727775833333 9.587952999999999 21.899041\n"
     ]
    }
   ]
  },
  {
   "cell_type": "code",
   "source": [
    "train_data = CustomDataset(train_path, train_subj, y_train[:train_subj], 1)"
   ],
   "metadata": {
    "id": "dGKoWx0x7RtW"
   },
   "execution_count": 14,
   "outputs": []
  },
  {
   "cell_type": "code",
   "source": [
    "val_data = CustomDataset(train_path, val_subj, y_train[train_subj:train_subj+val_subj], 1 + train_subj)"
   ],
   "metadata": {
    "id": "oTaTW4HK9PEH"
   },
   "execution_count": 15,
   "outputs": []
  },
  {
   "cell_type": "code",
   "source": [
    "# DataLoader\n",
    "batch_size = 16\n",
    "\n",
    "train_loader = DataLoader(\n",
    "    train_data,\n",
    "    batch_size=batch_size,\n",
    "    num_workers=1\n",
    ")\n",
    "\n",
    "val_loader = DataLoader(\n",
    "    val_data,\n",
    "    batch_size=batch_size,\n",
    "    num_workers=1\n",
    ")"
   ],
   "metadata": {
    "id": "7uDN-yCC-FUW"
   },
   "execution_count": 16,
   "outputs": []
  },
  {
   "cell_type": "code",
   "source": [
    "e = torch.ones(4,5)\n",
    "e[2,2] = 9.3\n",
    "np.around(e).int()"
   ],
   "metadata": {
    "colab": {
     "base_uri": "https://localhost:8080/"
    },
    "id": "C3iXStPhW0Pk",
    "outputId": "43330f7d-878b-40a0-f5c1-01c4da8855e6"
   },
   "execution_count": null,
   "outputs": []
  },
  {
   "cell_type": "code",
   "source": [
    "class AgeNET(nn.Module):\n",
    "    def conv_block(self, in_channels, out_channels, kernel, stride, pool):\n",
    "        return nn.Sequential(\n",
    "            nn.Conv2d(in_channels=in_channels, out_channels=out_channels, kernel_size=kernel, stride=stride, padding=0),\n",
    "            nn.LeakyReLU(),\n",
    "            nn.AvgPool2d(kernel_size=(1, pool), stride=(1, pool))\n",
    "        )\n",
    "    def __init__(self, out_len, state, sampling_rate, num_T, num_C):\n",
    "        super().__init__()\n",
    "        self.device = torch.device(DEVICE)\n",
    "        self.pool = 4\n",
    "        self.state = state\n",
    "        self.Time1_eo = self.conv_block(1, num_T, (1, sampling_rate//2), 1, self.pool*4)\n",
    "        self.Time2_eo = self.conv_block(1, num_T, (1, sampling_rate//4), 1, self.pool*4)\n",
    "        self.Time3_eo = self.conv_block(1, num_T, (1, sampling_rate//8), 1, self.pool*4)\n",
    "        self.Time1_ec = self.conv_block(1, num_T, (1, sampling_rate//2), 1, self.pool*4)\n",
    "        self.Time2_ec = self.conv_block(1, num_T, (1, sampling_rate//4), 1, self.pool*4)\n",
    "        self.Time3_ec = self.conv_block(1, num_T, (1, sampling_rate//8), 1, self.pool*4)\n",
    "        self.BN_T_eo = nn.BatchNorm2d(num_T)\n",
    "        self.BN_T_ec = nn.BatchNorm2d(num_T)\n",
    "        self.Chan1_eo = self.conv_block(num_T, num_C, (129, 1), 1, self.pool)\n",
    "        self.Chan2_eo = self.conv_block(num_T, num_C, (65, 1), (64, 1), self.pool)\n",
    "        # self.Chan3_eo = self.conv_block(num_T, num_C, (32, 1), (32, 1), self.pool)\n",
    "        self.Chan1_ec = self.conv_block(num_T, num_C, (129, 1), 1, self.pool)\n",
    "        self.Chan2_ec = self.conv_block(num_T, num_C, (65, 1), (64, 1), self.pool)\n",
    "        # self.Chan3_ec = self.conv_block(num_T, num_C, (32, 1), (32, 1), self.pool)\n",
    "        self.BN_C_eo = nn.BatchNorm2d(num_C)\n",
    "        self.BN_C_ec = nn.BatchNorm2d(num_C)\n",
    "        size_eo, size_ec = self.get_size()\n",
    "        print(size_eo, size_ec)\n",
    "        self.fc_eo = nn.Sequential(\n",
    "            nn.Flatten(),\n",
    "            nn.Linear(in_features=size_eo, out_features=1024, bias=True),\n",
    "            nn.BatchNorm1d(1024),\n",
    "            nn.ReLU()\n",
    "        )\n",
    "        self.fc_ec = nn.Sequential(\n",
    "            nn.Flatten(),\n",
    "            nn.Linear(in_features=size_ec, out_features=2048, bias=True),\n",
    "            nn.BatchNorm1d(2048),\n",
    "            nn.ReLU()\n",
    "        )\n",
    "        self.classifier = nn.Sequential(\n",
    "            nn.Linear(in_features=3072, out_features=1024, bias=True),\n",
    "            nn.BatchNorm1d(1024),\n",
    "            nn.ReLU(),\n",
    "            nn.Dropout(p=0.01, inplace=False),\n",
    "            # nn.Linear(in_features=4096, out_features=2048, bias=True),\n",
    "            # nn.BatchNorm1d(2048),\n",
    "            # nn.ReLU(),\n",
    "            # nn.Dropout(p=0.003, inplace=False),\n",
    "            # nn.Linear(in_features=2048, out_features=1024, bias=True),\n",
    "            # nn.BatchNorm1d(1024),\n",
    "            # nn.ReLU(),\n",
    "            # nn.Dropout(p=0.002, inplace=False),\n",
    "            nn.Linear(in_features=1024, out_features=512, bias=True),\n",
    "            nn.BatchNorm1d(512),\n",
    "            nn.ReLU(),\n",
    "            nn.Dropout(p=0.001, inplace=False),\n",
    "            nn.Linear(in_features=512, out_features=256, bias=True),\n",
    "            nn.BatchNorm1d(256),\n",
    "            nn.ReLU(),\n",
    "            nn.Linear(in_features=256, out_features=64, bias=True),\n",
    "            nn.BatchNorm1d(64),\n",
    "            nn.ReLU(),\n",
    "        )\n",
    "        self.last_layer = []\n",
    "        for j in out_len:\n",
    "            self.last_layer.append(\n",
    "                nn.Sequential(\n",
    "                    nn.Linear(in_features=64, out_features=j, bias=True),\n",
    "                    nn.ReLU()\n",
    "                )\n",
    "            )\n",
    "    def forward(self, x_eo, x_ec):\n",
    "        y = self.Time1_eo(x_eo)\n",
    "        out_eo = y\n",
    "        y = self.Time2_eo(x_eo)\n",
    "        out_eo = torch.cat((out_eo, y), dim=-1)\n",
    "        y = self.Time3_eo(x_eo)\n",
    "        out_eo = torch.cat((out_eo, y), dim=-1)\n",
    "        y = self.Time1_ec(x_ec)\n",
    "        out_ec = y\n",
    "        y = self.Time2_ec(x_ec)\n",
    "        out_ec = torch.cat((out_ec, y), dim=-1)\n",
    "        y = self.Time3_ec(x_ec)\n",
    "        out_ec = torch.cat((out_ec, y), dim=-1)\n",
    "        out_eo = self.BN_T_eo(out_eo)\n",
    "        out_ec = self.BN_T_ec(out_ec)\n",
    "        z = self.Chan1_eo(out_eo)\n",
    "        out_f_eo = z\n",
    "        z = self.Chan2_eo(out_eo)\n",
    "        out_f_eo = torch.cat((out_f_eo, z), dim=2)\n",
    "        # z = self.Chan3_eo(out_eo)\n",
    "        # out_f_eo = torch.cat((out_f_eo, z), dim=2)\n",
    "        z = self.Chan1_ec(out_ec)\n",
    "        out_f_ec = z\n",
    "        z = self.Chan2_ec(out_ec)\n",
    "        out_f_ec = torch.cat((out_f_ec, z), dim=2)\n",
    "        # z = self.Chan3_ec(out_ec)\n",
    "        # out_f_ec = torch.cat((out_f_ec, z), dim=2)\n",
    "        out_f_eo = self.BN_C_eo(out_f_eo)\n",
    "        out_f_ec = self.BN_C_ec(out_f_ec)\n",
    "        out = torch.cat((self.fc_eo(out_f_eo), self.fc_ec(out_f_ec)), dim=-1)\n",
    "        out = self.classifier(out)\n",
    "        out = self.last_layer[self.state]\n",
    "        return out\n",
    "    def set_state(self, st):\n",
    "        self.state = st\n",
    "    def get_size(self):\n",
    "        d_eo = torch.ones(1, 1, 129, 10000)\n",
    "        d_ec = torch.ones(1, 1, 129, 20000)\n",
    "        y = self.Time1_eo(d_eo)\n",
    "        out_eo = y\n",
    "        y = self.Time2_eo(d_eo)\n",
    "        out_eo = torch.cat((out_eo, y), dim=-1)\n",
    "        y = self.Time3_eo(d_eo)\n",
    "        out_eo = torch.cat((out_eo, y), dim=-1)\n",
    "        y = self.Time1_ec(d_ec)\n",
    "        out_ec = y\n",
    "        y = self.Time2_ec(d_ec)\n",
    "        out_ec = torch.cat((out_ec, y), dim=-1)\n",
    "        y = self.Time3_ec(d_ec)\n",
    "        out_ec = torch.cat((out_ec, y), dim=-1)\n",
    "        out_eo = self.BN_T_eo(out_eo)\n",
    "        out_ec = self.BN_T_ec(out_ec)\n",
    "        z = self.Chan1_eo(out_eo)\n",
    "        out_f_eo = z\n",
    "        z = self.Chan2_eo(out_eo)\n",
    "        out_f_eo = torch.cat((out_f_eo, z), dim=2)\n",
    "        # z = self.Chan3_eo(out_eo)\n",
    "        # out_f_eo = torch.cat((out_f_eo, z), dim=2)\n",
    "        z = self.Chan1_ec(out_ec)\n",
    "        out_f_ec = z\n",
    "        z = self.Chan2_ec(out_ec)\n",
    "        out_f_ec = torch.cat((out_f_ec, z), dim=2)\n",
    "        # z = self.Chan3_ec(out_ec)\n",
    "        # out_f_ec = torch.cat((out_f_ec, z), dim=2)\n",
    "        return torch.numel(out_f_eo), torch.numel(out_f_ec)"
   ],
   "metadata": {
    "id": "kEVFkDNr-fro"
   },
   "execution_count": 17,
   "outputs": []
  },
  {
   "cell_type": "code",
   "source": [
    "model_A = AgeNET([25, 1], 0, 128, 9, 6)\n",
    "model_A = model_A.to(DEVICE)"
   ],
   "metadata": {
    "colab": {
     "base_uri": "https://localhost:8080/"
    },
    "id": "ySNOp6gHX1JC",
    "outputId": "c1c9d247-a76c-426c-d527-f1c2a023bba7"
   },
   "execution_count": 18,
   "outputs": [
    {
     "name": "stdout",
     "output_type": "stream",
     "text": [
      "8406 16830\n"
     ]
    }
   ]
  },
  {
   "cell_type": "code",
   "source": [
    "from torchsummary import summary\n",
    "\n",
    "summary(model_A, [(1, 129, 10000), (1, 129, 20000)])"
   ],
   "metadata": {
    "colab": {
     "base_uri": "https://localhost:8080/"
    },
    "id": "WathzNO-aU1x",
    "outputId": "27208844-af12-4299-c208-29757e5ed199"
   },
   "execution_count": null,
   "outputs": []
  },
  {
   "cell_type": "code",
   "source": [
    "def train(model, device, train_loader, val_loader, lr, epochs):\n",
    "    train_abs_log = []\n",
    "    train_log = []\n",
    "    val_log = []\n",
    "    val_abs_log = []\n",
    "    model.train()\n",
    "    abs_loss = nn.L1Loss(reduction='mean')\n",
    "    lossfunc = nn.CrossEntropyLoss(reduction='mean')\n",
    "    optimizer = torch.optim.NAdam(model.parameters(), lr=lr)\n",
    "    f = plt.figure()\n",
    "    for epoch in range(epochs):\n",
    "        train_abs_loss = 0.0\n",
    "        train_loss = 0.0\n",
    "        print(f\"Epoch #{1 + epoch:02}: \")\n",
    "        for data, age in train_loader:\n",
    "            data_eo, data_ec = data\n",
    "            data_eo = data_eo.to(device)           # shape = (batch_size, 1, 129, 10000)\n",
    "            data_ec = data_ec.to(device)           # shape = (batch_size, 1, 129, 20000)\n",
    "            age = age.to(device)               # shape = (batch_size,)\n",
    "            batch_size = age.size(0)\n",
    "            optimizer.zero_grad()\n",
    "            output = model(data_eo, data_ec)       # shape = (batch_size, 25)\n",
    "            loss = lossfunc(output, np.around(age).int())\n",
    "            loss.backward()\n",
    "            optimizer.step()\n",
    "\n",
    "            train_abs_loss += abs_loss(torch.argmax(output, dim=-1), age).item() * batch_size\n",
    "            train_loss += loss.item() * batch_size\n",
    "        train_abs_loss /= train_subj\n",
    "        train_loss /= train_subj\n",
    "        train_abs_log.append(train_abs_loss)\n",
    "        train_log.append(train_loss)\n",
    "        val_abs_loss = 0.0\n",
    "        val_loss=0.0\n",
    "        for data, age in val_loader:\n",
    "            data_eo, data_ec = data\n",
    "            data_eo = data_eo.to(device)           # shape = (batch_size, 129, 10000)\n",
    "            data_ec = data_ec.to(device)           # shape = (batch_size, 129, 20000)\n",
    "            age = age.to(device)               # shape = (batch_size,)\n",
    "            batch_size = age.size(0)\n",
    "            output = model(data_eo, data_ec)       # shape = (batch_size, 25)\n",
    "            loss = lossfunc(output, np.around(age).int())\n",
    "\n",
    "            val_abs_loss += abs_loss(torch.argmax(output, dim=-1), age).item() * batch_size\n",
    "            val_loss += loss.item() * batch_size\n",
    "        val_abs_loss /= val_subj\n",
    "        val_loss /= val_subj\n",
    "        val_abs_log.append(val_abs_loss)\n",
    "        val_log.append(val_loss)\n",
    "        print(f\"CrossEntropyLoss:     train = {train_loss}, validation = {val_loss}\")\n",
    "        print(f\"mean absolute error:  train = {train_abs_loss}, validation = {val_abs_loss}\")\n",
    "        plt.clf()\n",
    "        plt.plot(train_log, label='train loss')\n",
    "        plt.plot(val_log, label='validation loss')\n",
    "        plt.xlabel('epoch')\n",
    "        plt.ylabel('loss')\n",
    "        plt.title('Loss')\n",
    "        plt.legend()\n",
    "        plt.show()\n",
    "    return train_abs_log, val_abs_log"
   ],
   "metadata": {
    "id": "FXbbwFatbzuW"
   },
   "execution_count": 21,
   "outputs": []
  },
  {
   "cell_type": "code",
   "source": [
    "train_abs_log, val_abs_log = train(model_A, DEVICE, train_loader, val_loader, 0.008, 30)"
   ],
   "metadata": {
    "colab": {
     "base_uri": "https://localhost:8080/"
    },
    "id": "9YhuPAGVLmsq",
    "outputId": "4de1370f-c3fb-4ff6-eb8e-37a302fecb8d"
   },
   "execution_count": 22,
   "outputs": [
    {
     "name": "stdout",
     "output_type": "stream",
     "text": [
      "Epoch #01: \n"
     ]
    },
    {
     "ename": "RuntimeError",
     "evalue": "DataLoader worker (pid(s) 27832) exited unexpectedly",
     "output_type": "error",
     "traceback": [
      "\u001B[1;31m---------------------------------------------------------------------------\u001B[0m",
      "\u001B[1;31mEmpty\u001B[0m                                     Traceback (most recent call last)",
      "File \u001B[1;32m~\\AppData\\Local\\Programs\\Python\\Python310\\lib\\site-packages\\torch\\utils\\data\\dataloader.py:1134\u001B[0m, in \u001B[0;36m_MultiProcessingDataLoaderIter._try_get_data\u001B[1;34m(self, timeout)\u001B[0m\n\u001B[0;32m   1133\u001B[0m \u001B[38;5;28;01mtry\u001B[39;00m:\n\u001B[1;32m-> 1134\u001B[0m     data \u001B[38;5;241m=\u001B[39m \u001B[38;5;28;43mself\u001B[39;49m\u001B[38;5;241;43m.\u001B[39;49m\u001B[43m_data_queue\u001B[49m\u001B[38;5;241;43m.\u001B[39;49m\u001B[43mget\u001B[49m\u001B[43m(\u001B[49m\u001B[43mtimeout\u001B[49m\u001B[38;5;241;43m=\u001B[39;49m\u001B[43mtimeout\u001B[49m\u001B[43m)\u001B[49m\n\u001B[0;32m   1135\u001B[0m     \u001B[38;5;28;01mreturn\u001B[39;00m (\u001B[38;5;28;01mTrue\u001B[39;00m, data)\n",
      "File \u001B[1;32m~\\AppData\\Local\\Programs\\Python\\Python310\\lib\\multiprocessing\\queues.py:114\u001B[0m, in \u001B[0;36mQueue.get\u001B[1;34m(self, block, timeout)\u001B[0m\n\u001B[0;32m    113\u001B[0m     \u001B[38;5;28;01mif\u001B[39;00m \u001B[38;5;129;01mnot\u001B[39;00m \u001B[38;5;28mself\u001B[39m\u001B[38;5;241m.\u001B[39m_poll(timeout):\n\u001B[1;32m--> 114\u001B[0m         \u001B[38;5;28;01mraise\u001B[39;00m Empty\n\u001B[0;32m    115\u001B[0m \u001B[38;5;28;01melif\u001B[39;00m \u001B[38;5;129;01mnot\u001B[39;00m \u001B[38;5;28mself\u001B[39m\u001B[38;5;241m.\u001B[39m_poll():\n",
      "\u001B[1;31mEmpty\u001B[0m: ",
      "\nThe above exception was the direct cause of the following exception:\n",
      "\u001B[1;31mRuntimeError\u001B[0m                              Traceback (most recent call last)",
      "Input \u001B[1;32mIn [22]\u001B[0m, in \u001B[0;36m<module>\u001B[1;34m\u001B[0m\n\u001B[1;32m----> 1\u001B[0m train_abs_log, val_abs_log \u001B[38;5;241m=\u001B[39m \u001B[43mtrain\u001B[49m\u001B[43m(\u001B[49m\u001B[43mmodel_A\u001B[49m\u001B[43m,\u001B[49m\u001B[43m \u001B[49m\u001B[43mDEVICE\u001B[49m\u001B[43m,\u001B[49m\u001B[43m \u001B[49m\u001B[43mtrain_loader\u001B[49m\u001B[43m,\u001B[49m\u001B[43m \u001B[49m\u001B[43mval_loader\u001B[49m\u001B[43m,\u001B[49m\u001B[43m \u001B[49m\u001B[38;5;241;43m0.008\u001B[39;49m\u001B[43m,\u001B[49m\u001B[43m \u001B[49m\u001B[38;5;241;43m30\u001B[39;49m\u001B[43m)\u001B[49m\n",
      "Input \u001B[1;32mIn [21]\u001B[0m, in \u001B[0;36mtrain\u001B[1;34m(model, device, train_loader, val_loader, lr, epochs)\u001B[0m\n\u001B[0;32m     13\u001B[0m train_loss \u001B[38;5;241m=\u001B[39m \u001B[38;5;241m0.0\u001B[39m\n\u001B[0;32m     14\u001B[0m \u001B[38;5;28mprint\u001B[39m(\u001B[38;5;124mf\u001B[39m\u001B[38;5;124m\"\u001B[39m\u001B[38;5;124mEpoch #\u001B[39m\u001B[38;5;132;01m{\u001B[39;00m\u001B[38;5;241m1\u001B[39m \u001B[38;5;241m+\u001B[39m epoch\u001B[38;5;132;01m:\u001B[39;00m\u001B[38;5;124m02\u001B[39m\u001B[38;5;132;01m}\u001B[39;00m\u001B[38;5;124m: \u001B[39m\u001B[38;5;124m\"\u001B[39m)\n\u001B[1;32m---> 15\u001B[0m \u001B[38;5;28;01mfor\u001B[39;00m data, age \u001B[38;5;129;01min\u001B[39;00m train_loader:\n\u001B[0;32m     16\u001B[0m     data_eo, data_ec \u001B[38;5;241m=\u001B[39m data\n\u001B[0;32m     17\u001B[0m     data_eo \u001B[38;5;241m=\u001B[39m data_eo\u001B[38;5;241m.\u001B[39mto(device)           \u001B[38;5;66;03m# shape = (batch_size, 1, 129, 10000)\u001B[39;00m\n",
      "File \u001B[1;32m~\\AppData\\Local\\Programs\\Python\\Python310\\lib\\site-packages\\torch\\utils\\data\\dataloader.py:652\u001B[0m, in \u001B[0;36m_BaseDataLoaderIter.__next__\u001B[1;34m(self)\u001B[0m\n\u001B[0;32m    649\u001B[0m \u001B[38;5;28;01mif\u001B[39;00m \u001B[38;5;28mself\u001B[39m\u001B[38;5;241m.\u001B[39m_sampler_iter \u001B[38;5;129;01mis\u001B[39;00m \u001B[38;5;28;01mNone\u001B[39;00m:\n\u001B[0;32m    650\u001B[0m     \u001B[38;5;66;03m# TODO(https://github.com/pytorch/pytorch/issues/76750)\u001B[39;00m\n\u001B[0;32m    651\u001B[0m     \u001B[38;5;28mself\u001B[39m\u001B[38;5;241m.\u001B[39m_reset()  \u001B[38;5;66;03m# type: ignore[call-arg]\u001B[39;00m\n\u001B[1;32m--> 652\u001B[0m data \u001B[38;5;241m=\u001B[39m \u001B[38;5;28;43mself\u001B[39;49m\u001B[38;5;241;43m.\u001B[39;49m\u001B[43m_next_data\u001B[49m\u001B[43m(\u001B[49m\u001B[43m)\u001B[49m\n\u001B[0;32m    653\u001B[0m \u001B[38;5;28mself\u001B[39m\u001B[38;5;241m.\u001B[39m_num_yielded \u001B[38;5;241m+\u001B[39m\u001B[38;5;241m=\u001B[39m \u001B[38;5;241m1\u001B[39m\n\u001B[0;32m    654\u001B[0m \u001B[38;5;28;01mif\u001B[39;00m \u001B[38;5;28mself\u001B[39m\u001B[38;5;241m.\u001B[39m_dataset_kind \u001B[38;5;241m==\u001B[39m _DatasetKind\u001B[38;5;241m.\u001B[39mIterable \u001B[38;5;129;01mand\u001B[39;00m \\\n\u001B[0;32m    655\u001B[0m         \u001B[38;5;28mself\u001B[39m\u001B[38;5;241m.\u001B[39m_IterableDataset_len_called \u001B[38;5;129;01mis\u001B[39;00m \u001B[38;5;129;01mnot\u001B[39;00m \u001B[38;5;28;01mNone\u001B[39;00m \u001B[38;5;129;01mand\u001B[39;00m \\\n\u001B[0;32m    656\u001B[0m         \u001B[38;5;28mself\u001B[39m\u001B[38;5;241m.\u001B[39m_num_yielded \u001B[38;5;241m>\u001B[39m \u001B[38;5;28mself\u001B[39m\u001B[38;5;241m.\u001B[39m_IterableDataset_len_called:\n",
      "File \u001B[1;32m~\\AppData\\Local\\Programs\\Python\\Python310\\lib\\site-packages\\torch\\utils\\data\\dataloader.py:1330\u001B[0m, in \u001B[0;36m_MultiProcessingDataLoaderIter._next_data\u001B[1;34m(self)\u001B[0m\n\u001B[0;32m   1327\u001B[0m     \u001B[38;5;28;01mreturn\u001B[39;00m \u001B[38;5;28mself\u001B[39m\u001B[38;5;241m.\u001B[39m_process_data(data)\n\u001B[0;32m   1329\u001B[0m \u001B[38;5;28;01massert\u001B[39;00m \u001B[38;5;129;01mnot\u001B[39;00m \u001B[38;5;28mself\u001B[39m\u001B[38;5;241m.\u001B[39m_shutdown \u001B[38;5;129;01mand\u001B[39;00m \u001B[38;5;28mself\u001B[39m\u001B[38;5;241m.\u001B[39m_tasks_outstanding \u001B[38;5;241m>\u001B[39m \u001B[38;5;241m0\u001B[39m\n\u001B[1;32m-> 1330\u001B[0m idx, data \u001B[38;5;241m=\u001B[39m \u001B[38;5;28;43mself\u001B[39;49m\u001B[38;5;241;43m.\u001B[39;49m\u001B[43m_get_data\u001B[49m\u001B[43m(\u001B[49m\u001B[43m)\u001B[49m\n\u001B[0;32m   1331\u001B[0m \u001B[38;5;28mself\u001B[39m\u001B[38;5;241m.\u001B[39m_tasks_outstanding \u001B[38;5;241m-\u001B[39m\u001B[38;5;241m=\u001B[39m \u001B[38;5;241m1\u001B[39m\n\u001B[0;32m   1332\u001B[0m \u001B[38;5;28;01mif\u001B[39;00m \u001B[38;5;28mself\u001B[39m\u001B[38;5;241m.\u001B[39m_dataset_kind \u001B[38;5;241m==\u001B[39m _DatasetKind\u001B[38;5;241m.\u001B[39mIterable:\n\u001B[0;32m   1333\u001B[0m     \u001B[38;5;66;03m# Check for _IterableDatasetStopIteration\u001B[39;00m\n",
      "File \u001B[1;32m~\\AppData\\Local\\Programs\\Python\\Python310\\lib\\site-packages\\torch\\utils\\data\\dataloader.py:1296\u001B[0m, in \u001B[0;36m_MultiProcessingDataLoaderIter._get_data\u001B[1;34m(self)\u001B[0m\n\u001B[0;32m   1292\u001B[0m     \u001B[38;5;66;03m# In this case, `self._data_queue` is a `queue.Queue`,. But we don't\u001B[39;00m\n\u001B[0;32m   1293\u001B[0m     \u001B[38;5;66;03m# need to call `.task_done()` because we don't use `.join()`.\u001B[39;00m\n\u001B[0;32m   1294\u001B[0m \u001B[38;5;28;01melse\u001B[39;00m:\n\u001B[0;32m   1295\u001B[0m     \u001B[38;5;28;01mwhile\u001B[39;00m \u001B[38;5;28;01mTrue\u001B[39;00m:\n\u001B[1;32m-> 1296\u001B[0m         success, data \u001B[38;5;241m=\u001B[39m \u001B[38;5;28;43mself\u001B[39;49m\u001B[38;5;241;43m.\u001B[39;49m\u001B[43m_try_get_data\u001B[49m\u001B[43m(\u001B[49m\u001B[43m)\u001B[49m\n\u001B[0;32m   1297\u001B[0m         \u001B[38;5;28;01mif\u001B[39;00m success:\n\u001B[0;32m   1298\u001B[0m             \u001B[38;5;28;01mreturn\u001B[39;00m data\n",
      "File \u001B[1;32m~\\AppData\\Local\\Programs\\Python\\Python310\\lib\\site-packages\\torch\\utils\\data\\dataloader.py:1147\u001B[0m, in \u001B[0;36m_MultiProcessingDataLoaderIter._try_get_data\u001B[1;34m(self, timeout)\u001B[0m\n\u001B[0;32m   1145\u001B[0m \u001B[38;5;28;01mif\u001B[39;00m \u001B[38;5;28mlen\u001B[39m(failed_workers) \u001B[38;5;241m>\u001B[39m \u001B[38;5;241m0\u001B[39m:\n\u001B[0;32m   1146\u001B[0m     pids_str \u001B[38;5;241m=\u001B[39m \u001B[38;5;124m'\u001B[39m\u001B[38;5;124m, \u001B[39m\u001B[38;5;124m'\u001B[39m\u001B[38;5;241m.\u001B[39mjoin(\u001B[38;5;28mstr\u001B[39m(w\u001B[38;5;241m.\u001B[39mpid) \u001B[38;5;28;01mfor\u001B[39;00m w \u001B[38;5;129;01min\u001B[39;00m failed_workers)\n\u001B[1;32m-> 1147\u001B[0m     \u001B[38;5;28;01mraise\u001B[39;00m \u001B[38;5;167;01mRuntimeError\u001B[39;00m(\u001B[38;5;124m'\u001B[39m\u001B[38;5;124mDataLoader worker (pid(s) \u001B[39m\u001B[38;5;132;01m{}\u001B[39;00m\u001B[38;5;124m) exited unexpectedly\u001B[39m\u001B[38;5;124m'\u001B[39m\u001B[38;5;241m.\u001B[39mformat(pids_str)) \u001B[38;5;28;01mfrom\u001B[39;00m \u001B[38;5;21;01me\u001B[39;00m\n\u001B[0;32m   1148\u001B[0m \u001B[38;5;28;01mif\u001B[39;00m \u001B[38;5;28misinstance\u001B[39m(e, queue\u001B[38;5;241m.\u001B[39mEmpty):\n\u001B[0;32m   1149\u001B[0m     \u001B[38;5;28;01mreturn\u001B[39;00m (\u001B[38;5;28;01mFalse\u001B[39;00m, \u001B[38;5;28;01mNone\u001B[39;00m)\n",
      "\u001B[1;31mRuntimeError\u001B[0m: DataLoader worker (pid(s) 27832) exited unexpectedly"
     ]
    },
    {
     "data": {
      "text/plain": "<Figure size 432x288 with 0 Axes>"
     },
     "metadata": {},
     "output_type": "display_data"
    }
   ]
  },
  {
   "cell_type": "code",
   "execution_count": null,
   "outputs": [],
   "source": [],
   "metadata": {
    "collapsed": false
   }
  }
 ]
}
