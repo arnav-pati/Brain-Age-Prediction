{
 "cells": [
  {
   "cell_type": "code",
   "execution_count": 1,
   "metadata": {
    "colab": {
     "base_uri": "https://localhost:8080/"
    },
    "id": "oysaGQTAl6RJ",
    "outputId": "46642e56-1bf0-4162-fcca-67fc56d87fea"
   },
   "outputs": [
    {
     "name": "stdout",
     "output_type": "stream",
     "text": [
      "Defaulting to user installation because normal site-packages is not writeable\n",
      "Requirement already satisfied: mne in /home/deepak/.local/lib/python3.8/site-packages (1.2.2)\n",
      "Requirement already satisfied: matplotlib in /usr/local/lib/python3.8/dist-packages (from mne) (3.4.3)\n",
      "Requirement already satisfied: decorator in /home/deepak/.local/lib/python3.8/site-packages (from mne) (5.1.1)\n",
      "Requirement already satisfied: jinja2 in /home/deepak/.local/lib/python3.8/site-packages (from mne) (3.1.2)\n",
      "Requirement already satisfied: packaging in /usr/local/lib/python3.8/dist-packages (from mne) (21.3)\n",
      "Requirement already satisfied: numpy>=1.15.4 in /home/deepak/.local/lib/python3.8/site-packages (from mne) (1.23.4)\n",
      "Requirement already satisfied: scipy>=1.1.0 in /home/deepak/.local/lib/python3.8/site-packages (from mne) (1.4.1)\n",
      "Requirement already satisfied: tqdm in /home/deepak/.local/lib/python3.8/site-packages (from mne) (4.64.1)\n",
      "Requirement already satisfied: pooch>=1.5 in /home/deepak/.local/lib/python3.8/site-packages (from mne) (1.6.0)\n",
      "Requirement already satisfied: requests>=2.19.0 in /usr/lib/python3/dist-packages (from pooch>=1.5->mne) (2.22.0)\n",
      "Requirement already satisfied: appdirs>=1.3.0 in /home/deepak/.local/lib/python3.8/site-packages (from pooch>=1.5->mne) (1.4.4)\n",
      "Requirement already satisfied: pyparsing!=3.0.5,>=2.0.2 in /usr/local/lib/python3.8/dist-packages (from packaging->mne) (2.4.7)\n",
      "Requirement already satisfied: MarkupSafe>=2.0 in /home/deepak/.local/lib/python3.8/site-packages (from jinja2->mne) (2.1.1)\n",
      "Requirement already satisfied: kiwisolver>=1.0.1 in /usr/local/lib/python3.8/dist-packages (from matplotlib->mne) (1.3.2)\n",
      "Requirement already satisfied: python-dateutil>=2.7 in /home/deepak/.local/lib/python3.8/site-packages (from matplotlib->mne) (2.8.2)\n",
      "Requirement already satisfied: pillow>=6.2.0 in /home/deepak/.local/lib/python3.8/site-packages (from matplotlib->mne) (9.2.0)\n",
      "Requirement already satisfied: cycler>=0.10 in /usr/local/lib/python3.8/dist-packages (from matplotlib->mne) (0.10.0)\n",
      "Requirement already satisfied: six in /usr/local/lib/python3.8/dist-packages (from cycler>=0.10->matplotlib->mne) (1.15.0)\n"
     ]
    }
   ],
   "source": [
    "!pip install mne"
   ]
  },
  {
   "cell_type": "code",
   "execution_count": 2,
   "metadata": {},
   "outputs": [
    {
     "name": "stdout",
     "output_type": "stream",
     "text": [
      "Defaulting to user installation because normal site-packages is not writeable\n",
      "Looking in links: https://download.pytorch.org/whl/nightly/cu111/torch_nightly.html\n",
      "Requirement already satisfied: torch in /home/deepak/.local/lib/python3.8/site-packages (1.13.0)\n",
      "Requirement already satisfied: torchvision in /home/deepak/.local/lib/python3.8/site-packages (0.14.0)\n",
      "Requirement already satisfied: nvidia-cublas-cu11==11.10.3.66 in /home/deepak/.local/lib/python3.8/site-packages (from torch) (11.10.3.66)\n",
      "Requirement already satisfied: nvidia-cuda-runtime-cu11==11.7.99 in /home/deepak/.local/lib/python3.8/site-packages (from torch) (11.7.99)\n",
      "Requirement already satisfied: nvidia-cuda-nvrtc-cu11==11.7.99 in /home/deepak/.local/lib/python3.8/site-packages (from torch) (11.7.99)\n",
      "Requirement already satisfied: nvidia-cudnn-cu11==8.5.0.96 in /home/deepak/.local/lib/python3.8/site-packages (from torch) (8.5.0.96)\n",
      "Requirement already satisfied: typing-extensions in /usr/local/lib/python3.8/dist-packages (from torch) (3.7.4.3)\n",
      "Requirement already satisfied: setuptools in /usr/lib/python3/dist-packages (from nvidia-cublas-cu11==11.10.3.66->torch) (45.2.0)\n",
      "Requirement already satisfied: wheel in /usr/local/lib/python3.8/dist-packages (from nvidia-cublas-cu11==11.10.3.66->torch) (0.37.0)\n",
      "Requirement already satisfied: pillow!=8.3.*,>=5.3.0 in /home/deepak/.local/lib/python3.8/site-packages (from torchvision) (9.2.0)\n",
      "Requirement already satisfied: requests in /usr/lib/python3/dist-packages (from torchvision) (2.22.0)\n",
      "Requirement already satisfied: numpy in /home/deepak/.local/lib/python3.8/site-packages (from torchvision) (1.23.4)\n"
     ]
    }
   ],
   "source": [
    "!pip install --pre torch torchvision -f https://download.pytorch.org/whl/nightly/cu111/torch_nightly.html -U"
   ]
  },
  {
   "cell_type": "code",
   "execution_count": 3,
   "metadata": {
    "id": "6MYmHs60lmdb"
   },
   "outputs": [],
   "source": [
    "######################################################################################################\n",
    "#  ________   _________   ___    ___ ___  ___  ________  ________  ___  __      _______   _______\n",
    "# |\\   ___  \\|\\___   ___\\|\\  \\  /  /|\\  \\|\\  \\|\\   __  \\|\\   ____\\|\\  \\|\\  \\   /  ___  \\ /  ___  \\\n",
    "# \\ \\  \\\\ \\  \\|___ \\  \\_|\\ \\  \\/  / | \\  \\\\\\  \\ \\  \\|\\  \\ \\  \\___|\\ \\  \\/  /|_/__/|_/  //__/|_/  /|\n",
    "#  \\ \\  \\\\ \\  \\   \\ \\  \\  \\ \\    / / \\ \\   __  \\ \\   __  \\ \\  \\    \\ \\   ___  \\__|//  / /__|//  / /\n",
    "#   \\ \\  \\\\ \\  \\   \\ \\  \\  /     \\/   \\ \\  \\ \\  \\ \\  \\ \\  \\ \\  \\____\\ \\  \\\\ \\  \\  /  /_/__  /  /_/__\n",
    "#    \\ \\__\\\\ \\__\\   \\ \\__\\/  /\\   \\    \\ \\__\\ \\__\\ \\__\\ \\__\\ \\_______\\ \\__\\\\ \\__\\|\\________\\\\________\\\n",
    "#     \\|__| \\|__|    \\|__/__/ /\\ __\\    \\|__|\\|__|\\|__|\\|__|\\|_______|\\|__| \\|__| \\|_______|\\|_______|\n",
    "#                        |__|/ \\|__|\n",
    "######################################################################################################\n",
    "#\n",
    "# Data exploration and example file for submission in the NTX Hackathon challenge\n",
    "#\n",
    "######################################################################################################\n",
    "\n",
    "import mne\n",
    "import numpy as np\n",
    "import pandas as pd\n",
    "import matplotlib.pyplot as plt\n",
    "import torch\n",
    "from torch import nn\n",
    "import random\n",
    "\n",
    "from torch.utils.data import Dataset, DataLoader\n",
    "from sklearn.pipeline import make_pipeline\n",
    "from mne.decoding import Vectorizer\n",
    "from sklearn.decomposition import PCA\n",
    "from sklearn.linear_model import Ridge"
   ]
  },
  {
   "cell_type": "code",
   "execution_count": 4,
   "metadata": {
    "colab": {
     "base_uri": "https://localhost:8080/"
    },
    "id": "RZV9VtNSRL_j",
    "outputId": "0585b3a2-1a4b-4fcd-964b-f0f21e017ced"
   },
   "outputs": [
    {
     "name": "stdout",
     "output_type": "stream",
     "text": [
      "cuda\n"
     ]
    }
   ],
   "source": [
    "DEVICE = \"cuda\" if torch.cuda.is_available() else \"cpu\"\n",
    "print(DEVICE)"
   ]
  },
  {
   "cell_type": "code",
   "execution_count": 5,
   "metadata": {
    "id": "f0LsTnD5nVY3"
   },
   "outputs": [],
   "source": [
    "# Path to training data\n",
    "train_path = \"/home/deepak/learning_project/student/BrainAge/training/\""
   ]
  },
  {
   "cell_type": "code",
   "execution_count": 6,
   "metadata": {
    "id": "ZDJZiGov83bO"
   },
   "outputs": [],
   "source": [
    "# Path to testing data (public test set)\n",
    "test_path = \"/home/deepak/learning_project/student/BrainAge/testing_flat/\""
   ]
  },
  {
   "cell_type": "code",
   "execution_count": 7,
   "metadata": {
    "id": "nEPYkDKflw0f"
   },
   "outputs": [],
   "source": [
    "# download data https://filesender.renater.fr/?s=download&token=e1de0ec4-09bc-4194-b85b-59830cb04af3\n",
    "# download test data from https://codalab.lisn.upsaclay.fr/competitions/8336\n",
    "\n",
    "condition_ec = \"EC\"  # use only closed eyes condition for demonstration purpose\n",
    "condition_eo = \"EO\"  # use only closed eyes condition for demonstration purpose\n",
    "train_subj = 1200  # use 10 instead of 1200 training subjects, for demonstration purpose\n",
    "test_subj = 400  # use 10 instead of 400 testing subjects, for demonstration purpose"
   ]
  },
  {
   "cell_type": "code",
   "execution_count": 8,
   "metadata": {
    "colab": {
     "base_uri": "https://localhost:8080/"
    },
    "id": "8HyHsvf_CBK2",
    "outputId": "eb72f55f-79e6-4382-d295-0b215d13345a"
   },
   "outputs": [],
   "source": [
    "class CustomDataset(Dataset):\n",
    "    def __init__(self, path, subj, ages, start):\n",
    "        self.path = path\n",
    "        self.subj = subj\n",
    "        self.ages = ages\n",
    "        self.start = start\n",
    "    def __len__(self):\n",
    "        return self.subj\n",
    "    def __getitem__(self, idx):\n",
    "        s = idx + self.start\n",
    "        fname = f\"subj{s:04}_{condition_eo}_raw.fif.gz\"\n",
    "        raw = mne.io.read_raw(self.path + fname, preload=True, verbose='warning')\n",
    "        d = raw.get_data()\n",
    "        ft = d.shape[-1]\n",
    "        data_eo = torch.zeros(129, 10000)\n",
    "        data_eo[:, :ft] = torch.tensor(d)\n",
    "        fname = f\"subj{s:04}_{condition_ec}_raw.fif.gz\"\n",
    "        raw = mne.io.read_raw(self.path + fname, preload=True, verbose='warning')\n",
    "        d = raw.get_data()\n",
    "        ft = d.shape[-1]\n",
    "        data_ec = torch.zeros(129, 20000)\n",
    "        data_ec[:, :ft] = torch.tensor(d)\n",
    "        data = (data_eo, data_ec)\n",
    "        age = self.ages[idx]\n",
    "        return data, age"
   ]
  },
  {
   "cell_type": "code",
   "execution_count": 9,
   "metadata": {
    "id": "H4OoV_KrmBHX"
   },
   "outputs": [],
   "source": [
    "# get the age to predict from the CSV file\n",
    "meta = pd.read_csv(train_path + \"train_subjects.csv\")\n",
    "y_train = []\n",
    "for age in meta[\"age\"][:train_subj]:\n",
    "    y_train.append(age)"
   ]
  },
  {
   "cell_type": "code",
   "execution_count": 10,
   "metadata": {},
   "outputs": [],
   "source": [
    "train_data = CustomDataset(train_path, train_subj, y_train, 1)"
   ]
  },
  {
   "cell_type": "code",
   "execution_count": 11,
   "metadata": {},
   "outputs": [],
   "source": [
    "test_ages = [0 for i in range(test_subj)]\n",
    "test_data = CustomDataset(test_path, test_subj, test_ages, 1201)"
   ]
  },
  {
   "cell_type": "code",
   "execution_count": 12,
   "metadata": {
    "id": "XAMBnLzzSlnB"
   },
   "outputs": [],
   "source": [
    "# DataLoader\n",
    "batch_size = 8\n",
    "\n",
    "train_loader = DataLoader(\n",
    "    train_data,\n",
    "    batch_size=batch_size,\n",
    "    num_workers=2\n",
    ")\n",
    "\n",
    "test_loader = DataLoader(\n",
    "    test_data,\n",
    "    batch_size=batch_size,\n",
    "    num_workers=2\n",
    ")"
   ]
  },
  {
   "cell_type": "code",
   "execution_count": 13,
   "metadata": {
    "id": "cCjSx-4xlZ-h"
   },
   "outputs": [],
   "source": [
    "class DNN(nn.Module):\n",
    "    def __init__(self):\n",
    "        super().__init__()\n",
    "        self.device = torch.device(DEVICE)\n",
    "        self.classifier = nn.Sequential(\n",
    "            nn.Flatten(),\n",
    "            nn.Linear(in_features=3870000, out_features=64, bias=True),\n",
    "            nn.ReLU(inplace=True),\n",
    "            nn.Dropout(p=0.5, inplace=False),\n",
    "            nn.Linear(in_features=64, out_features=32, bias=True),\n",
    "            nn.ReLU(inplace=True),\n",
    "            nn.Dropout(p=0.3, inplace=False),\n",
    "            nn.Linear(in_features=32, out_features=16, bias=True),\n",
    "            nn.ReLU(inplace=True),\n",
    "            nn.Dropout(p=0.2, inplace=False),\n",
    "            nn.Linear(in_features=16, out_features=8, bias=True),\n",
    "            nn.ReLU(inplace=True),\n",
    "            nn.Dropout(p=0.1 ,inplace=False),\n",
    "            nn.Linear(in_features=8, out_features=1, bias=True)\n",
    "        )\n",
    "    def forward(self, x):\n",
    "        return self.classifier(x)"
   ]
  },
  {
   "cell_type": "code",
   "execution_count": 14,
   "metadata": {},
   "outputs": [],
   "source": [
    "class CNN(nn.Module):\n",
    "    def __init__(self):\n",
    "        super().__init__()\n",
    "        self.device = torch.device(DEVICE)\n",
    "        self.features_eo = nn.Sequential(  # input shape = (batch_size, 129, 10000)\n",
    "            nn.Conv1d(in_channels=129, out_channels=129, kernel_size=3, stride=1, padding=1),\n",
    "            nn.ReLU(),\n",
    "            # shape = (batch_size, 129, 10000)\n",
    "            nn.Conv1d(in_channels=129, out_channels=129, kernel_size=5, stride=1, padding=2),\n",
    "            nn.ReLU(),\n",
    "            # shape = (batch_size, 129, 10000)\n",
    "            nn.Conv1d(in_channels=129, out_channels=129, kernel_size=5, stride=1, padding=2),\n",
    "            nn.ReLU()\n",
    "            # shape = (batch_size, 129, 10000)\n",
    "        )\n",
    "        self.features_ec = nn.Sequential(  # input shape = (batch_size, 129, 20000)\n",
    "            nn.Conv1d(in_channels=129, out_channels=129, kernel_size=3, stride=1, padding=1),\n",
    "            nn.ReLU(),\n",
    "            # shape = (batch_size, 129, 20000)\n",
    "            nn.Conv1d(in_channels=129, out_channels=129, kernel_size=5, stride=1, padding=2),\n",
    "            nn.ReLU(),\n",
    "            # shape = (batch_size, 129, 20000)\n",
    "            nn.Conv1d(in_channels=129, out_channels=129, kernel_size=5, stride=2, padding=2),\n",
    "            nn.ReLU()\n",
    "            # shape = (batch_size, 129, 10000)\n",
    "        )\n",
    "        self.features = nn.Sequential(  # input shape = (batch_size, 258, 10000)\n",
    "            nn.Conv1d(in_channels=258, out_channels=129, kernel_size=15, stride=1, padding=7),\n",
    "            nn.ReLU(),\n",
    "            # shape = (batch_size, 129, 10000)\n",
    "            nn.Conv1d(in_channels=129, out_channels=60, kernel_size=30, stride=2, padding=14),\n",
    "            nn.ReLU(),\n",
    "            # shape = (batch_size, 60, 5000)\n",
    "            nn.Conv1d(in_channels=60, out_channels=30, kernel_size=45, stride=5, padding=20),\n",
    "            nn.ReLU(),\n",
    "            # shape = (batch_size, 30, 1000)\n",
    "        )\n",
    "        self.avgpool = nn.AvgPool1d(kernel_size=2)\n",
    "        self.classifier = nn.Sequential(  # input shape = (batch_size, 30, 500)\n",
    "            nn.Flatten(),\n",
    "            nn.Linear(in_features=15000, out_features=8192, bias=True),\n",
    "            nn.ReLU(inplace=True),\n",
    "            nn.Dropout(p=0.5, inplace=False),\n",
    "            nn.Linear(in_features=8192, out_features=4096, bias=True),\n",
    "            nn.ReLU(inplace=True),\n",
    "            nn.Dropout(p=0.5, inplace=False),\n",
    "            nn.Linear(in_features=4096, out_features=2048, bias=True),\n",
    "            nn.ReLU(inplace=True),\n",
    "            nn.Dropout(p=0.5, inplace=False),\n",
    "            nn.Linear(in_features=2048, out_features=1024, bias=True),\n",
    "            nn.ReLU(inplace=True),\n",
    "            nn.Dropout(p=0.5, inplace=False),\n",
    "            nn.Linear(in_features=1024, out_features=512, bias=True),\n",
    "            nn.ReLU(inplace=True),\n",
    "            nn.Dropout(p=0.4, inplace=False),\n",
    "            nn.Linear(in_features=512, out_features=128, bias=True),\n",
    "            nn.ReLU(inplace=True),\n",
    "            nn.Dropout(p=0.4, inplace=False),\n",
    "            nn.Linear(in_features=128, out_features=32, bias=True),\n",
    "            nn.ReLU(inplace=True),\n",
    "            nn.Dropout(p=0.3, inplace=False),\n",
    "            nn.Linear(in_features=32, out_features=16, bias=True),\n",
    "            nn.ReLU(inplace=True),\n",
    "            nn.Dropout(p=0.2, inplace=False),\n",
    "            nn.Linear(in_features=16, out_features=8, bias=True),\n",
    "            nn.ReLU(inplace=True),\n",
    "            nn.Linear(in_features=8, out_features=4, bias=True),\n",
    "            nn.ReLU(inplace=True),\n",
    "            nn.Linear(in_features=4, out_features=2, bias=True),\n",
    "            nn.ReLU(inplace=True),\n",
    "            nn.Linear(in_features=2, out_features=1, bias=True),\n",
    "            nn.ReLU(inplace=True)\n",
    "        )\n",
    "    def forward(self, x_eo, x_ec):\n",
    "        x_eo = self.features_eo(x_eo)\n",
    "        x_ec = self.features_ec(x_ec)\n",
    "        x = torch.cat((x_eo, x_ec), 1)\n",
    "        x = self.features(x)\n",
    "        x = self.avgpool(x)\n",
    "        x = self.classifier(x)\n",
    "        return x"
   ]
  },
  {
   "cell_type": "code",
   "execution_count": 15,
   "metadata": {},
   "outputs": [],
   "source": [
    "model_CNN = CNN()\n",
    "model_CNN = model_CNN.to(DEVICE)"
   ]
  },
  {
   "cell_type": "code",
   "execution_count": 16,
   "metadata": {},
   "outputs": [
    {
     "name": "stdout",
     "output_type": "stream",
     "text": [
      "----------------------------------------------------------------\n",
      "        Layer (type)               Output Shape         Param #\n",
      "================================================================\n",
      "            Conv1d-1           [-1, 129, 10000]          50,052\n",
      "              ReLU-2           [-1, 129, 10000]               0\n",
      "            Conv1d-3           [-1, 129, 10000]          83,334\n",
      "              ReLU-4           [-1, 129, 10000]               0\n",
      "            Conv1d-5           [-1, 129, 10000]          83,334\n",
      "              ReLU-6           [-1, 129, 10000]               0\n",
      "            Conv1d-7           [-1, 129, 20000]          50,052\n",
      "              ReLU-8           [-1, 129, 20000]               0\n",
      "            Conv1d-9           [-1, 129, 20000]          83,334\n",
      "             ReLU-10           [-1, 129, 20000]               0\n",
      "           Conv1d-11           [-1, 129, 10000]          83,334\n",
      "             ReLU-12           [-1, 129, 10000]               0\n",
      "           Conv1d-13           [-1, 129, 10000]         499,359\n",
      "             ReLU-14           [-1, 129, 10000]               0\n",
      "           Conv1d-15             [-1, 60, 5000]         232,260\n",
      "             ReLU-16             [-1, 60, 5000]               0\n",
      "           Conv1d-17             [-1, 30, 1000]          81,030\n",
      "             ReLU-18             [-1, 30, 1000]               0\n",
      "        AvgPool1d-19              [-1, 30, 500]               0\n",
      "          Flatten-20                [-1, 15000]               0\n",
      "           Linear-21                 [-1, 8192]     122,888,192\n",
      "             ReLU-22                 [-1, 8192]               0\n",
      "          Dropout-23                 [-1, 8192]               0\n",
      "           Linear-24                 [-1, 4096]      33,558,528\n",
      "             ReLU-25                 [-1, 4096]               0\n",
      "          Dropout-26                 [-1, 4096]               0\n",
      "           Linear-27                 [-1, 2048]       8,390,656\n",
      "             ReLU-28                 [-1, 2048]               0\n",
      "          Dropout-29                 [-1, 2048]               0\n",
      "           Linear-30                 [-1, 1024]       2,098,176\n",
      "             ReLU-31                 [-1, 1024]               0\n",
      "          Dropout-32                 [-1, 1024]               0\n",
      "           Linear-33                  [-1, 512]         524,800\n",
      "             ReLU-34                  [-1, 512]               0\n",
      "          Dropout-35                  [-1, 512]               0\n",
      "           Linear-36                  [-1, 128]          65,664\n",
      "             ReLU-37                  [-1, 128]               0\n",
      "          Dropout-38                  [-1, 128]               0\n",
      "           Linear-39                   [-1, 32]           4,128\n",
      "             ReLU-40                   [-1, 32]               0\n",
      "          Dropout-41                   [-1, 32]               0\n",
      "           Linear-42                   [-1, 16]             528\n",
      "             ReLU-43                   [-1, 16]               0\n",
      "          Dropout-44                   [-1, 16]               0\n",
      "           Linear-45                    [-1, 8]             136\n",
      "             ReLU-46                    [-1, 8]               0\n",
      "           Linear-47                    [-1, 4]              36\n",
      "             ReLU-48                    [-1, 4]               0\n",
      "           Linear-49                    [-1, 2]              10\n",
      "             ReLU-50                    [-1, 2]               0\n",
      "           Linear-51                    [-1, 1]               3\n",
      "             ReLU-52                    [-1, 1]               0\n",
      "================================================================\n",
      "Total params: 168,776,946\n",
      "Trainable params: 168,776,946\n",
      "Non-trainable params: 0\n",
      "----------------------------------------------------------------\n",
      "Input size (MB): 12696075.44\n",
      "Forward/backward pass size (MB): 182.79\n",
      "Params size (MB): 643.83\n",
      "Estimated Total Size (MB): 12696902.06\n",
      "----------------------------------------------------------------\n"
     ]
    }
   ],
   "source": [
    "from torchsummary import summary\n",
    "\n",
    "summary(model_CNN, [(129, 10000), (129, 20000)])"
   ]
  },
  {
   "cell_type": "code",
   "execution_count": 17,
   "metadata": {},
   "outputs": [],
   "source": [
    "def train(model, device, train_loader, lr, epochs):\n",
    "    loss_log = []\n",
    "    model.train()\n",
    "    lossfunc = nn.L1Loss(reduction='mean')\n",
    "    optimizer = torch.optim.NAdam(model.parameters(), lr=lr)\n",
    "    for epoch in range(epochs):\n",
    "        running_loss = 0.0\n",
    "        print(f\"Epoch #{1 + epoch:02}: \", end=\"\")\n",
    "        for data, age in train_loader:\n",
    "            data_eo, data_ec = data\n",
    "            data_eo = data_eo.to(device)           # shape = (batch_size, 129, 10000)\n",
    "            data_ec = data_ec.to(device)           # shape = (batch_size, 129, 20000)\n",
    "            age = age.to(device)                   # shape = (batch_size)\n",
    "            batch_size = age.size(0)\n",
    "#             x = torch.cat((data_eo, data_ec), -1)  # shape = (batch_size, 129, 30000)\n",
    "            optimizer.zero_grad()\n",
    "            output = model(data_eo, data_ec)\n",
    "            loss = lossfunc(torch.squeeze(output), age)\n",
    "            loss.backward()\n",
    "            optimizer.step()\n",
    "\n",
    "            running_loss += loss.item() * batch_size\n",
    "        running_loss /= train_subj\n",
    "        loss_log.append(running_loss)\n",
    "        print(running_loss)\n",
    "    plt.plot(loss_log)\n",
    "    plt.xlabel('epoch')\n",
    "    plt.ylabel('loss')\n",
    "    plt.title('Loss')\n",
    "    return loss_log"
   ]
  },
  {
   "cell_type": "code",
   "execution_count": 18,
   "metadata": {
    "scrolled": false
   },
   "outputs": [
    {
     "name": "stdout",
     "output_type": "stream",
     "text": [
      "Epoch #01: 10.532821912018656\n",
      "Epoch #02: 9.706310445146089\n",
      "Epoch #03: 9.262004995099034\n",
      "Epoch #04: 8.705797478955313\n",
      "Epoch #05: 8.038646100462799\n",
      "Epoch #06: 7.263184878926798\n",
      "Epoch #07: 6.382019914886679\n",
      "Epoch #08: 5.401045404540202\n",
      "Epoch #09: 4.443217607626595\n",
      "Epoch #10: 3.7202203125191757\n",
      "Epoch #11: 3.2596132013836914\n",
      "Epoch #12: 3.0063926336922204\n",
      "Epoch #13: 2.8888418278967287\n",
      "Epoch #14: 2.836267016687724\n",
      "Epoch #15: 2.8151888126641853\n",
      "Epoch #16: 2.805501266892954\n",
      "Epoch #17: 2.8015426761795044\n",
      "Epoch #18: 2.8004096660059097\n",
      "Epoch #19: 2.800183709136962\n",
      "Epoch #20: 2.800156599101969\n",
      "Epoch #21: 2.800200721387634\n",
      "Epoch #22: 2.8002200142190548\n",
      "Epoch #23: 2.800237901970316\n",
      "Epoch #24: 2.800254646901855\n",
      "Epoch #25: 2.839261813672988\n",
      "Epoch #26: 2.919369620141653\n",
      "Epoch #27: 2.8055308530231535\n",
      "Epoch #28: 2.8011150468524164\n",
      "Epoch #29: 2.800964450915171\n",
      "Epoch #30: 2.799224646571096\n"
     ]
    },
    {
     "data": {
      "image/png": "[encoded data removed]",
      "text/plain": [
       "<Figure size 640x480 with 1 Axes>"
      ]
     },
     "metadata": {},
     "output_type": "display_data"
    }
   ],
   "source": [
    "loss_log = train(model_CNN, DEVICE, train_loader, 0.001, 30)"
   ]
  },
  {
   "cell_type": "code",
   "execution_count": 19,
   "metadata": {},
   "outputs": [
    {
     "data": {
      "text/plain": [
       "[10.532821912018656,\n",
       " 9.706310445146089,\n",
       " 9.262004995099034,\n",
       " 8.705797478955313,\n",
       " 8.038646100462799,\n",
       " 7.263184878926798,\n",
       " 6.382019914886679,\n",
       " 5.401045404540202,\n",
       " 4.443217607626595,\n",
       " 3.7202203125191757,\n",
       " 3.2596132013836914,\n",
       " 3.0063926336922204,\n",
       " 2.8888418278967287,\n",
       " 2.836267016687724,\n",
       " 2.8151888126641853,\n",
       " 2.805501266892954,\n",
       " 2.8015426761795044,\n",
       " 2.8004096660059097,\n",
       " 2.800183709136962,\n",
       " 2.800156599101969,\n",
       " 2.800200721387634,\n",
       " 2.8002200142190548,\n",
       " 2.800237901970316,\n",
       " 2.800254646901855,\n",
       " 2.839261813672988,\n",
       " 2.919369620141653,\n",
       " 2.8055308530231535,\n",
       " 2.8011150468524164,\n",
       " 2.800964450915171,\n",
       " 2.799224646571096]"
      ]
     },
     "execution_count": 19,
     "metadata": {},
     "output_type": "execute_result"
    }
   ],
   "source": [
    "loss_log"
   ]
  },
  {
   "cell_type": "code",
   "execution_count": 22,
   "metadata": {},
   "outputs": [],
   "source": [
    "def test(model, device, test_loader):\n",
    "    y_pred = []\n",
    "    for data, age in test_loader:\n",
    "        data_eo, data_ec = data\n",
    "        data_eo = data_eo.to(device)           # shape = (batch_size, 129, 10000)\n",
    "        data_ec = data_ec.to(device)           # shape = (batch_size, 129, 20000)\n",
    "#         x = torch.cat((data_eo, data_ec), -1)  # shape = (batch_size, 129, 30000)\n",
    "        output = torch.squeeze(model(data_eo, data_ec))\n",
    "        print(output.shape)\n",
    "        y_pred.extend(list(output.detach().cpu().numpy()))\n",
    "    return y_pred"
   ]
  },
  {
   "cell_type": "code",
   "execution_count": 23,
   "metadata": {},
   "outputs": [
    {
     "name": "stdout",
     "output_type": "stream",
     "text": [
      "torch.Size([8])\n",
      "torch.Size([8])\n",
      "torch.Size([8])\n",
      "torch.Size([8])\n",
      "torch.Size([8])\n",
      "torch.Size([8])\n",
      "torch.Size([8])\n",
      "torch.Size([8])\n",
      "torch.Size([8])\n",
      "torch.Size([8])\n",
      "torch.Size([8])\n",
      "torch.Size([8])\n",
      "torch.Size([8])\n",
      "torch.Size([8])\n",
      "torch.Size([8])\n",
      "torch.Size([8])\n",
      "torch.Size([8])\n",
      "torch.Size([8])\n",
      "torch.Size([8])\n",
      "torch.Size([8])\n",
      "torch.Size([8])\n",
      "torch.Size([8])\n",
      "torch.Size([8])\n",
      "torch.Size([8])\n",
      "torch.Size([8])\n",
      "torch.Size([8])\n",
      "torch.Size([8])\n",
      "torch.Size([8])\n",
      "torch.Size([8])\n",
      "torch.Size([8])\n",
      "torch.Size([8])\n",
      "torch.Size([8])\n",
      "torch.Size([8])\n",
      "torch.Size([8])\n",
      "torch.Size([8])\n",
      "torch.Size([8])\n",
      "torch.Size([8])\n",
      "torch.Size([8])\n",
      "torch.Size([8])\n",
      "torch.Size([8])\n",
      "torch.Size([8])\n",
      "torch.Size([8])\n",
      "torch.Size([8])\n",
      "torch.Size([8])\n",
      "torch.Size([8])\n",
      "torch.Size([8])\n",
      "torch.Size([8])\n",
      "torch.Size([8])\n",
      "torch.Size([8])\n",
      "torch.Size([8])\n"
     ]
    }
   ],
   "source": [
    "y_pred = test(model_CNN, DEVICE, test_loader)"
   ]
  },
  {
   "cell_type": "code",
   "execution_count": null,
   "metadata": {},
   "outputs": [],
   "source": []
  },
  {
   "cell_type": "code",
   "execution_count": 24,
   "metadata": {},
   "outputs": [],
   "source": [
    "# create submission file\n",
    "submission = []\n",
    "for subj, pred in zip(range(1201, 1201 + test_subj), y_pred):\n",
    "    submission.append({\"id\": subj, \"age\": pred})\n",
    "pd.DataFrame(submission).to_csv(\"mysubmission4.csv\", index=False)\n",
    "\n",
    "# zip the csv file (without anything else) and submit it on the website!"
   ]
  }
 ],
 "metadata": {
  "accelerator": "GPU",
  "colab": {
   "collapsed_sections": [],
   "provenance": []
  },
  "gpuClass": "standard",
  "kernelspec": {
   "display_name": "Python 3 (ipykernel)",
   "language": "python",
   "name": "python3"
  },
  "language_info": {
   "codemirror_mode": {
    "name": "ipython",
    "version": 3
   },
   "file_extension": ".py",
   "mimetype": "text/x-python",
   "name": "python",
   "nbconvert_exporter": "python",
   "pygments_lexer": "ipython3",
   "version": "3.8.10"
  }
 },
 "nbformat": 4,
 "nbformat_minor": 1
}
